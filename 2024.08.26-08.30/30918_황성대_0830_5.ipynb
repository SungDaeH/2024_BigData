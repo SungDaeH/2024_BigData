{
 "cells": [
  {
   "cell_type": "markdown",
   "id": "6c8166d6",
   "metadata": {},
   "source": [
    "# 30918_황성대_0830_5"
   ]
  },
  {
   "cell_type": "markdown",
   "id": "3ea7647f",
   "metadata": {},
   "source": [
    "# 1171 : 당신의 학번은? 2\n",
    "학번을 입력 받아 다음 형식으로 출력하시오.\n",
    "\n",
    "학번은 학년, 반, 번호로 입력된다.\n",
    "\n",
    "이번에는 학년은 한자리, 반은 두자리, 번호는 세자리로 출력한다.\n",
    "\n",
    "예)\n",
    "\n",
    "2 1 20  ===> 201020  으로 출력\n",
    "\n",
    "2 2 7 ==> 202007 으로 출력\n",
    "\n",
    "2 3 100 ==>  203100 으로 출력\n",
    "\n",
    "2 10 111 ==> 210111 로 출력"
   ]
  },
  {
   "cell_type": "code",
   "execution_count": 22,
   "id": "8bac0a00",
   "metadata": {
    "scrolled": true
   },
   "outputs": [
    {
     "name": "stdout",
     "output_type": "stream",
     "text": [
      "2 11 111\n",
      "211111\n"
     ]
    }
   ],
   "source": [
    "a,b,c = map(int, input().split())\n",
    "\n",
    "if a <= 3 and b <= 20 and c <= 999:\n",
    "    if b < 10 and c < 10 :\n",
    "        print(f'{a}0{b}00{c}')\n",
    "    elif b<10 and c >= 10 and c <= 99:\n",
    "        print(f'{a}0{b}0{c}')\n",
    "    elif b < 10 and c >= 10 and c <= 999:\n",
    "        print(f'{a}0{b}{c}')\n",
    "    elif b >= 10 and c < 10 :\n",
    "        print(f'{a}{b}00{c}')\n",
    "    elif b >= 10 and c >= 10 and c <= 99:\n",
    "        print(f'{a}{b}0{c}')\n",
    "    elif b >= 10 and c >= 10 and c <= 999:\n",
    "        print(f'{a}{b}{c}')"
   ]
  },
  {
   "cell_type": "markdown",
   "id": "d58b53c3",
   "metadata": {},
   "source": [
    "# 1172 : 세 수 정렬하기\n",
    "세 수를 오름차순으로 정렬하려고 한다. (낮은 숫자 -> 높은 숫자)\n",
    "\n",
    "예)\n",
    "\n",
    "5 8 2   ====> 2 5 8    로 출력"
   ]
  },
  {
   "cell_type": "code",
   "execution_count": 34,
   "id": "c24b253c",
   "metadata": {},
   "outputs": [
    {
     "name": "stdout",
     "output_type": "stream",
     "text": [
      "9 3 5\n",
      "3 5 9\n"
     ]
    }
   ],
   "source": [
    "a,b,c = map(int, input().split())\n",
    "\n",
    "if a <= b <= c:\n",
    "    print(a,b,c)\n",
    "elif a <= b >= c <= a:\n",
    "    print(c,a,b)\n",
    "elif a >= b >= c:\n",
    "    print(c,b,a)\n",
    "elif a <= b >= c >= a:\n",
    "    print(a,c,b)\n",
    "elif a >= b <= c >= a:\n",
    "    print(b,a,c)\n",
    "elif a >= b <= c <= a:\n",
    "    print(b,c,a)"
   ]
  },
  {
   "cell_type": "markdown",
   "id": "16a103aa",
   "metadata": {},
   "source": [
    "# 1173 : 30분전\n",
    "수호는 30분 전으로 돌아가고 싶은 1人 이다.\n",
    "\n",
    "공백을 기준으로 시간과 분이 주어진다.\n",
    "\n",
    "그러면 이 시간을 기준으로 30분전의 시간을 출력하시오.\n",
    "\n",
    "예)\n",
    "\n",
    "12 35  =====> 12 5\n",
    "\n",
    "12 0 ======> 11 30\n",
    "\n",
    "11 5 ======> 10 35\n",
    "\n",
    "0 10 ======> 23 40\n",
    "\n",
    "\n"
   ]
  },
  {
   "cell_type": "code",
   "execution_count": 35,
   "id": "b4bce8f2",
   "metadata": {},
   "outputs": [
    {
     "name": "stdout",
     "output_type": "stream",
     "text": [
      "12 35\n",
      "12 5\n"
     ]
    }
   ],
   "source": [
    "\n",
    "hour, minute = map(int, input().split())\n",
    "\n",
    "remain = minute - 30\n",
    "if remain >= 0:\n",
    "    print(hour, remain)\n",
    "else:\n",
    "    if hour == 0:\n",
    "        print(23, 60+remain)\n",
    "    else:\n",
    "        print(hour-1, 60+remain)"
   ]
  },
  {
   "cell_type": "code",
   "execution_count": 36,
   "id": "f247e54f",
   "metadata": {},
   "outputs": [
    {
     "name": "stdout",
     "output_type": "stream",
     "text": [
      "12 35\n",
      "12 5\n"
     ]
    }
   ],
   "source": [
    "a, b = map(int, input().split())\n",
    "\n",
    "c = b - 30\n",
    "if c >= 0:\n",
    "    print(a, c)\n",
    "else :\n",
    "    if a == 0:\n",
    "        print(23, 60+c)\n",
    "    else :\n",
    "        print(a-1, 60 + c)"
   ]
  },
  {
   "cell_type": "code",
   "execution_count": null,
   "id": "890945bd",
   "metadata": {},
   "outputs": [],
   "source": []
  }
 ],
 "metadata": {
  "kernelspec": {
   "display_name": "Python 3 (ipykernel)",
   "language": "python",
   "name": "python3"
  },
  "language_info": {
   "codemirror_mode": {
    "name": "ipython",
    "version": 3
   },
   "file_extension": ".py",
   "mimetype": "text/x-python",
   "name": "python",
   "nbconvert_exporter": "python",
   "pygments_lexer": "ipython3",
   "version": "3.9.7"
  }
 },
 "nbformat": 4,
 "nbformat_minor": 5
}
