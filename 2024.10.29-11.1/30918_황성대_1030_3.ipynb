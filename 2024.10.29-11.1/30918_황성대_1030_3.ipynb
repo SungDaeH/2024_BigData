{
 "cells": [
  {
   "cell_type": "markdown",
   "id": "bb71715b",
   "metadata": {},
   "source": [
    "# 30918_황성대_1030_3"
   ]
  },
  {
   "cell_type": "markdown",
   "id": "bc9f4796",
   "metadata": {},
   "source": [
    "\n",
    "# 1206 : 배수\n",
    "\n",
    "두 자연수 a, b가 주어진다.\n",
    "\n",
    "b가 a의 배수이면 \"a*x=b\"를 출력하고,\n",
    "\n",
    "a가 b의 배수이면 \"b*x=a\"를 출력하고,\n",
    "\n",
    "배수관계가 아니면 \"none\"을 출력하시오.\n",
    "\n",
    "예) \n",
    "\n",
    "5 10    ====> 5*2=10\n",
    "\n",
    "14 2   ======> 2*7=14\n",
    "\n",
    "3 7 =====> none"
   ]
  },
  {
   "cell_type": "code",
   "execution_count": 6,
   "id": "22844992",
   "metadata": {},
   "outputs": [
    {
     "name": "stdout",
     "output_type": "stream",
     "text": [
      "5 10\n",
      "5*2=10\n"
     ]
    }
   ],
   "source": [
    "a,b = map(int,input().split())\n",
    "\n",
    "if b % a == 0:\n",
    "    print(f'{a}*{b // a}={b}')\n",
    "elif a % b == 0:\n",
    "    print(f'{b}*{a//b}*{a}')\n",
    "else:\n",
    "    print('none')"
   ]
  },
  {
   "cell_type": "markdown",
   "id": "fe0dffeb",
   "metadata": {},
   "source": [
    "# 1207 : 윷놀이\n",
    "윷놀이는 4개의 윷을 이용하는 게임이다.\n",
    "\n",
    " \n",
    "\n",
    "도 : 1개가 뒤집어진 상태\n",
    "\n",
    "개 : 2개가 뒤집어진 상태\n",
    "\n",
    "걸 : 3개가 뒤집어진 상태\n",
    "\n",
    "윷 : 4개가 뒤집어진 상태\n",
    "\n",
    "모 : 하나도 뒤집어지지 않은 상태\n",
    "\n",
    " \n",
    "\n",
    "4개의 윷 상태가 입력되면 도, 개, 걸, 윷, 모를 출력하는 프로그램을 작성하시오."
   ]
  },
  {
   "cell_type": "code",
   "execution_count": 4,
   "id": "464dc46b",
   "metadata": {},
   "outputs": [
    {
     "name": "stdout",
     "output_type": "stream",
     "text": [
      "0 1 1 0\n",
      "개\n"
     ]
    }
   ],
   "source": [
    "from sys import stdin\n",
    "\n",
    "a = list(map(int, input().split()))\n",
    "count_a = a.count(1)\n",
    "\n",
    "if count_a == 1:\n",
    "    print('도')\n",
    "elif count_a == 2:\n",
    "    print('개')\n",
    "elif count_a == 3:\n",
    "    print('걸')\n",
    "elif count_a == 4:\n",
    "    print('윷')\n",
    "else :\n",
    "    print('모')"
   ]
  },
  {
   "cell_type": "markdown",
   "id": "ff270c9d",
   "metadata": {},
   "source": [
    "#  1210 : 칼로리 계산하기\n",
    "보림이는 엄마와 함께 놋데리아에 갔다.\n",
    "\n",
    "보림이는 먹고 싶은게 많았으나 엄마가 살이 찐다고 2가지만 골라서 먹으라고 했다.\n",
    "\n",
    "그리고 두 메뉴의 칼로리 합이 500보다 크면 엄마가 화를 내고, 500이하면 화를 내지 않는다.\n",
    "\n",
    "보림이가 선택할 수 있는 메뉴는 다음과 같다.\n",
    "\n",
    "1. 치즈버거 : 400 칼로리\n",
    "\n",
    "2. 야채버거 : 340 칼로리\n",
    "\n",
    "3. 우유 : 170 칼로리\n",
    "\n",
    "4. 계란말이 : 100 칼로리\n",
    "\n",
    "5. 샐러드 : 70 칼로리\n",
    "\n",
    "이 메뉴들 중 2가지 메뉴를 선택했을 때 칼로리 합을 계산하고, 그 칼로리 합이 500보다 크면 \"angry\", 500이하면 \"no angry\"를 출력하시오."
   ]
  },
  {
   "cell_type": "code",
   "execution_count": 18,
   "id": "017443ac",
   "metadata": {},
   "outputs": [
    {
     "name": "stdout",
     "output_type": "stream",
     "text": [
      "1 4\n",
      "no angry\n"
     ]
    }
   ],
   "source": [
    "a, b = map(int, input().split())\n",
    "\n",
    "menu = [400, 340, 170, 100, 70]\n",
    "\n",
    "if menu[a-1] + menu[b-1] > 500 : \n",
    "    print('angry')\n",
    "else :\n",
    "    print('no angry')"
   ]
  },
  {
   "cell_type": "code",
   "execution_count": 17,
   "id": "abc96f99",
   "metadata": {},
   "outputs": [
    {
     "data": {
      "text/plain": [
       "500"
      ]
     },
     "execution_count": 17,
     "metadata": {},
     "output_type": "execute_result"
    }
   ],
   "source": [
    "menu[1-1] + menu[4-1]"
   ]
  },
  {
   "cell_type": "code",
   "execution_count": null,
   "id": "b2b060d8",
   "metadata": {},
   "outputs": [],
   "source": []
  }
 ],
 "metadata": {
  "kernelspec": {
   "display_name": "Python 3 (ipykernel)",
   "language": "python",
   "name": "python3"
  },
  "language_info": {
   "codemirror_mode": {
    "name": "ipython",
    "version": 3
   },
   "file_extension": ".py",
   "mimetype": "text/x-python",
   "name": "python",
   "nbconvert_exporter": "python",
   "pygments_lexer": "ipython3",
   "version": "3.9.7"
  }
 },
 "nbformat": 4,
 "nbformat_minor": 5
}
