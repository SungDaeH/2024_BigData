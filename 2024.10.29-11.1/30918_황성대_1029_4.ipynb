{
 "cells": [
  {
   "cell_type": "markdown",
   "id": "6dea1a0f",
   "metadata": {},
   "source": [
    "# 30918_황성대_1029_4"
   ]
  },
  {
   "cell_type": "markdown",
   "id": "d7a7622d",
   "metadata": {},
   "source": [
    "# 1203 : 비만도 측정 0\n",
    "```\n",
    "비만을 판단하기 위해서 BMI 수치가 필요하다.\n",
    "\n",
    "BMI 수치가 입력되면 비만을 판단하시오.\n",
    "\n",
    "* BMI에 따른 비만 판정\n",
    "\n",
    "BMI 수치\t비만 판정\n",
    "~10 이하\t정상\n",
    "~20 이하\t과체중\n",
    "20 초과\t비만\n",
    "```"
   ]
  },
  {
   "cell_type": "code",
   "execution_count": 2,
   "id": "3dd060d2",
   "metadata": {
    "scrolled": true
   },
   "outputs": [
    {
     "name": "stdout",
     "output_type": "stream",
     "text": [
      "21\n",
      "비만\n"
     ]
    }
   ],
   "source": [
    "n = int(input())\n",
    "\n",
    "if n <= 10 :\n",
    "    print('정상')\n",
    "elif n <= 20 : \n",
    "    print('과체중')\n",
    "elif n > 20 :\n",
    "    print('비만')"
   ]
  },
  {
   "cell_type": "markdown",
   "id": "0b6e1840",
   "metadata": {},
   "source": [
    "# 1204 : 영어 서수로 표현하기\n",
    "\n",
    "영어로 서수를 표현할 때 다음과 같이 나타낸다.\n",
    "\n",
    "1st  2nd  3rd  4th  5th  6th  ... 10th\n",
    "\n",
    "11th 12th 13th 14th 15th  ...  20th\n",
    "\n",
    "21st 22nd 23rd 24th 25th  ...  30th\n",
    "\n",
    "31st 32nd 33rd 34th 35th  ...  40th\n",
    "\n",
    "41st 42nd 43rd 44th 45th  ...  50th\n",
    "\n",
    "...\n",
    "\n",
    "91st 92nd 93rd 94th 95th  ...  99th\n",
    "\n",
    " \n",
    "\n",
    "1~99 중 하나가 숫자가 입력되면 영어 서수 표현을 출력하시오."
   ]
  },
  {
   "cell_type": "code",
   "execution_count": 8,
   "id": "72894569",
   "metadata": {},
   "outputs": [
    {
     "name": "stdout",
     "output_type": "stream",
     "text": [
      "33\n",
      "33rd\n"
     ]
    }
   ],
   "source": [
    "n = int(input())\n",
    "\n",
    "if n == 1  or n==21 or n==31 or n==41 or n==51 or n==61 or n==71 or n==81 or n == 91:\n",
    "    print(f'{n}st')\n",
    "elif n == 2  or n==22 or n==32 or n==42 or n==52 or n==62 or n==72 or n==82 or n == 92:\n",
    "    print(f'{n}nd')\n",
    "elif n == 3 or n==23 or n==33 or n==43 or n==53 or n==63 or n==73 or n==83 or n == 93:\n",
    "    print(f'{n}rd')\n",
    "else :\n",
    "    print(f'{n}th')"
   ]
  },
  {
   "cell_type": "markdown",
   "id": "6ec382e3",
   "metadata": {},
   "source": [
    "# 1205 : 최댓값\n",
    "\n",
    "두 실수 a, b가 입력되면 그 두수를 더하거나 빼거나 곱하거나 나누거나 제곱을 해서 가장 큰 수를 출력하시오.\n",
    "\n",
    "예를 들어 1과 2가 입력되면,\n",
    "\n",
    "1+2 = 3   , 2+1 = 3\n",
    "\n",
    "1 - 2 = -1,   2 - 1 = 1\n",
    "\n",
    "1 * 2 = 2,    2 * 1 = 2\n",
    "\n",
    "1 / 2 = 0.5,   2 / 1 = 2\n",
    "\n",
    "12=1 ,   21 = 2\n",
    "\n",
    "따라서 최댓값은 3이다."
   ]
  },
  {
   "cell_type": "code",
   "execution_count": 16,
   "id": "baf16cc5",
   "metadata": {},
   "outputs": [
    {
     "name": "stdout",
     "output_type": "stream",
     "text": [
      "1 2\n",
      "3.000000\n"
     ]
    }
   ],
   "source": [
    "a, b = map(float, input().split())\n",
    "\n",
    "list = [a+b, a-b, a*b, a/b, a**b, b-a, b*a, b/a, b**a]\n",
    "\n",
    "max_num = \"%.6f\" % max(list)\n",
    "\n",
    "print(max_num)"
   ]
  },
  {
   "cell_type": "code",
   "execution_count": null,
   "id": "3287d85e",
   "metadata": {},
   "outputs": [],
   "source": []
  }
 ],
 "metadata": {
  "kernelspec": {
   "display_name": "Python 3 (ipykernel)",
   "language": "python",
   "name": "python3"
  },
  "language_info": {
   "codemirror_mode": {
    "name": "ipython",
    "version": 3
   },
   "file_extension": ".py",
   "mimetype": "text/x-python",
   "name": "python",
   "nbconvert_exporter": "python",
   "pygments_lexer": "ipython3",
   "version": "3.9.7"
  }
 },
 "nbformat": 4,
 "nbformat_minor": 5
}
