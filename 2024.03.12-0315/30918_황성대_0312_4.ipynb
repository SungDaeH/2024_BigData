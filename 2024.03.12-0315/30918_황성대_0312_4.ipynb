{
 "cells": [
  {
   "cell_type": "markdown",
   "id": "77b0c74a",
   "metadata": {},
   "source": [
    "## 30918_황성대_0312_4"
   ]
  },
  {
   "cell_type": "markdown",
   "id": "09a98c51",
   "metadata": {},
   "source": [
    "## 2.3 데이터를 넣는 입력 명령어\n",
    "#### 2.3.2 입력 명령어 input()"
   ]
  },
  {
   "cell_type": "code",
   "execution_count": 1,
   "id": "4d756ac9",
   "metadata": {},
   "outputs": [
    {
     "name": "stdout",
     "output_type": "stream",
     "text": [
      "성일정보\n"
     ]
    },
    {
     "data": {
      "text/plain": [
       "'성일정보'"
      ]
     },
     "execution_count": 1,
     "metadata": {},
     "output_type": "execute_result"
    }
   ],
   "source": [
    "input()"
   ]
  },
  {
   "cell_type": "code",
   "execution_count": 2,
   "id": "2fff73d5",
   "metadata": {},
   "outputs": [
    {
     "name": "stdout",
     "output_type": "stream",
     "text": [
      "이름성일\n"
     ]
    },
    {
     "data": {
      "text/plain": [
       "'성일'"
      ]
     },
     "execution_count": 2,
     "metadata": {},
     "output_type": "execute_result"
    }
   ],
   "source": [
    "input('이름')"
   ]
  },
  {
   "cell_type": "markdown",
   "id": "f8f7b570",
   "metadata": {},
   "source": [
    "출력형태\n",
    "```\n",
    "아이디 :\n",
    "비밀번호 :\n",
    "```"
   ]
  },
  {
   "cell_type": "code",
   "execution_count": 3,
   "id": "49393f98",
   "metadata": {},
   "outputs": [
    {
     "name": "stdout",
     "output_type": "stream",
     "text": [
      "아이디 : sungil\n",
      "비밀번호 : 1234\n"
     ]
    },
    {
     "data": {
      "text/plain": [
       "'1234'"
      ]
     },
     "execution_count": 3,
     "metadata": {},
     "output_type": "execute_result"
    }
   ],
   "source": [
    "input('아이디 : ')\n",
    "input('비밀번호 : ')"
   ]
  },
  {
   "cell_type": "markdown",
   "id": "722fc659",
   "metadata": {},
   "source": [
    "> 다음을 입력하세요\n",
    "```\n",
    "학번을 입력하세요 : ----> 30900\n",
    "```"
   ]
  },
  {
   "cell_type": "code",
   "execution_count": 4,
   "id": "3b1afbd5",
   "metadata": {},
   "outputs": [
    {
     "name": "stdout",
     "output_type": "stream",
     "text": [
      "학번을 입력하세요 : 30918\n"
     ]
    },
    {
     "data": {
      "text/plain": [
       "'30918'"
      ]
     },
     "execution_count": 4,
     "metadata": {},
     "output_type": "execute_result"
    }
   ],
   "source": [
    "input('학번을 입력하세요 : ')"
   ]
  },
  {
   "cell_type": "markdown",
   "id": "17829313",
   "metadata": {},
   "source": [
    "> 출력해 보기\n",
    "\n",
    "```\n",
    "---회원가입---\n",
    "아이디: gilbut\n",
    "가입을 환영합니다!\n",
    "```"
   ]
  },
  {
   "cell_type": "code",
   "execution_count": 6,
   "id": "0c729f9a",
   "metadata": {},
   "outputs": [
    {
     "name": "stdout",
     "output_type": "stream",
     "text": [
      "---회원가입---\n",
      "아이디 : gilbut\n",
      "가입을 환영합니다!\n"
     ]
    }
   ],
   "source": [
    "print(\"---회원가입---\")\n",
    "input(\"아이디 : \")\n",
    "print(\"가입을 환영합니다!\")"
   ]
  },
  {
   "cell_type": "markdown",
   "id": "a8231609",
   "metadata": {},
   "source": [
    "> 출력해 봅시다\n",
    "\n",
    "```\n",
    "닉네임을 입력해 주세요 --> 졔졔쌤\n",
    "졔졔쌤님 안녕하세요\n",
    "```"
   ]
  },
  {
   "cell_type": "code",
   "execution_count": 9,
   "id": "051d70d7",
   "metadata": {},
   "outputs": [
    {
     "name": "stdout",
     "output_type": "stream",
     "text": [
      "닉네임을 입력해 주세요 --> 졔졔\n",
      "졔졔님 안녕하세요\n"
     ]
    }
   ],
   "source": [
    "name = input(\"닉네임을 입력해 주세요 --> \")\n",
    "print(name + \"님 안녕하세요\")"
   ]
  },
  {
   "cell_type": "code",
   "execution_count": 10,
   "id": "c7fc607e",
   "metadata": {},
   "outputs": [
    {
     "name": "stdout",
     "output_type": "stream",
     "text": [
      "닉네임을 입력해 주세요 --> 성대\n",
      "성대님 안녕하세요\n"
     ]
    }
   ],
   "source": [
    "print(input(\"닉네임을 입력해 주세요 --> \")+ \"님 안녕하세요\")"
   ]
  },
  {
   "cell_type": "code",
   "execution_count": null,
   "id": "34391441",
   "metadata": {},
   "outputs": [],
   "source": []
  }
 ],
 "metadata": {
  "kernelspec": {
   "display_name": "Python 3 (ipykernel)",
   "language": "python",
   "name": "python3"
  },
  "language_info": {
   "codemirror_mode": {
    "name": "ipython",
    "version": 3
   },
   "file_extension": ".py",
   "mimetype": "text/x-python",
   "name": "python",
   "nbconvert_exporter": "python",
   "pygments_lexer": "ipython3",
   "version": "3.9.7"
  }
 },
 "nbformat": 4,
 "nbformat_minor": 5
}
