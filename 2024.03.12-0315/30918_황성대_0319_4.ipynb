{
 "cells": [
  {
   "cell_type": "markdown",
   "id": "aa778aae",
   "metadata": {},
   "source": [
    "\n",
    "# 30918_황성대_0319_4"
   ]
  },
  {
   "cell_type": "code",
   "execution_count": 16,
   "id": "bf94e7d4",
   "metadata": {},
   "outputs": [
    {
     "name": "stdout",
     "output_type": "stream",
     "text": [
      "1부터 n까지 정수의 합을 구합니다.\n",
      "n값을 입력하세요 : 5\n",
      "1부터 5까지 정수의 합은 15입니다.\n"
     ]
    }
   ],
   "source": [
    "# 반복 학습\n",
    "print(\"1부터 n까지 정수의 합을 구합니다.\")\n",
    "n = int(input(\"n값을 입력하세요 : \"))\n",
    "\n",
    "#변수를 만들고 초기화\n",
    "sum = 0;\n",
    "i = 1\n",
    "\n",
    "while n >= i: # i가 n보다 작거나 같으면 반복\n",
    "    sum +=i;\n",
    "    i += 1;\n",
    "print(f'1부터 {n}까지 정수의 합은 {sum}입니다.')\n",
    "\n"
   ]
  },
  {
   "cell_type": "code",
   "execution_count": 41,
   "id": "e3f465ff",
   "metadata": {},
   "outputs": [
    {
     "name": "stdout",
     "output_type": "stream",
     "text": [
      "1부터 n까지 정수의 합을 구합니다.\n",
      "n값을 입력하세요 : 5\n",
      "1부터 5까지 정수의 합은 15입니다.\n"
     ]
    }
   ],
   "source": [
    "# for문\n",
    "\n",
    "print(\"1부터 n까지 정수의 합을 구합니다.\")\n",
    "n = int(input(\"n값을 입력하세요 : \"))\n",
    "\n",
    "sum = 0;\n",
    "#for문을 이용한 반복\n",
    "for i in range(1 , n+1):\n",
    "    sum += i;\n",
    "\n",
    "\n",
    "print(f'1부터 {n}까지 정수의 합은 {sum}입니다.')"
   ]
  },
  {
   "cell_type": "code",
   "execution_count": 31,
   "id": "ca1185fc",
   "metadata": {},
   "outputs": [
    {
     "name": "stdout",
     "output_type": "stream",
     "text": [
      "a부터 b까지 정수의 합을 구합니다.\n",
      "정수 a를 입력합니다. : 3\n",
      "정수 b를 입력합니다. : 8\n",
      "3부터 8까지 정수의 합은 33입니다\n"
     ]
    }
   ],
   "source": [
    "print(\"a부터 b까지 정수의 합을 구합니다.\")\n",
    "a = int(input(\"정수 a를 입력합니다. : \"))\n",
    "b = int(input(\"정수 b를 입력합니다. : \"))\n",
    "if a > b :\n",
    "    a, b = b, a # a와 b를 오름차순으로 정렬\n",
    "\n",
    "sum = 0\n",
    "\n",
    "for i in range(a, b+1) : \n",
    "    sum += i;\n",
    "\n",
    "print(f\"{a}부터 {b}까지 정수의 합은 {sum}입니다\")"
   ]
  },
  {
   "cell_type": "code",
   "execution_count": 39,
   "id": "d423907c",
   "metadata": {},
   "outputs": [
    {
     "name": "stdout",
     "output_type": "stream",
     "text": [
      "a부터 b까지 정수의 합을 구합니다.\n",
      "a값을 입력하세요 : 1\n",
      "b값을 입력하세요 : 5\n",
      "1 + 2 + 3 + 4 + 5 = 15\n"
     ]
    }
   ],
   "source": [
    "# a부터 b까지 정수의 합을 구하는 과정과 최종값을 출력하는 프로그램\n",
    "print(\"a부터 b까지 정수의 합을 구합니다.\")\n",
    "\n",
    "a = int(input(\"a값을 입력하세요 : \"))\n",
    "b = int(input(\"b값을 입력하세요 : \"))\n",
    "\n",
    "if a > b :\n",
    "    a,b = b,a\n",
    "\n",
    "sum = 0;\n",
    "\n",
    "for i in range(a, b+1):\n",
    "    if i < b : #i가 b보다 작으면 합을 구하는 과정을 출력\n",
    "        print(f'{i} + ' ,end='')\n",
    "    else :\n",
    "        print(f'{i} = ',end ='')\n",
    "    sum += i\n",
    "\n",
    "print(sum)"
   ]
  },
  {
   "cell_type": "code",
   "execution_count": null,
   "id": "59e70479",
   "metadata": {},
   "outputs": [],
   "source": []
  },
  {
   "cell_type": "code",
   "execution_count": null,
   "id": "16028146",
   "metadata": {},
   "outputs": [],
   "source": []
  }
 ],
 "metadata": {
  "kernelspec": {
   "display_name": "Python 3 (ipykernel)",
   "language": "python",
   "name": "python3"
  },
  "language_info": {
   "codemirror_mode": {
    "name": "ipython",
    "version": 3
   },
   "file_extension": ".py",
   "mimetype": "text/x-python",
   "name": "python",
   "nbconvert_exporter": "python",
   "pygments_lexer": "ipython3",
   "version": "3.9.7"
  }
 },
 "nbformat": 4,
 "nbformat_minor": 5
}
