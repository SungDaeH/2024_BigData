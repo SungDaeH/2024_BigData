{
 "cells": [
  {
   "cell_type": "markdown",
   "id": "b4b97c9d",
   "metadata": {},
   "source": [
    "# 30918_황성대_0320_3"
   ]
  },
  {
   "cell_type": "code",
   "execution_count": 5,
   "id": "67894a46",
   "metadata": {},
   "outputs": [
    {
     "name": "stdout",
     "output_type": "stream",
     "text": [
      "a부터 b까지 정수의 합을 구합니다.\n",
      "정수 a를 입력합니다. : 1\n",
      "정수 b를 입력합니다. : 10\n",
      "1 + 2 + 3 + 4 + 5 + 6 + 7 + 8 + 9 + 10 = 55\n"
     ]
    }
   ],
   "source": [
    "print(\"a부터 b까지 정수의 합을 구합니다.\")\n",
    "\n",
    "a = int(input(\"정수 a를 입력합니다. : \"))\n",
    "b = int(input(\"정수 b를 입력합니다. : \"))\n",
    "\n",
    "if a > b :\n",
    "    a, b = b, a\n",
    "\n",
    "sum = 0\n",
    "\n",
    "for i in range(a, b+1):\n",
    "    if i < b:\n",
    "        print(f\"{i} + \",end=\"\")\n",
    "    else:\n",
    "        print(f\"{i} = \",end=\"\")\n",
    "    sum += i\n",
    "print(sum)"
   ]
  },
  {
   "cell_type": "code",
   "execution_count": 10,
   "id": "21717456",
   "metadata": {},
   "outputs": [
    {
     "name": "stdout",
     "output_type": "stream",
     "text": [
      "a부터 b까지 정수의 합을 구합니다.\n",
      "정수 a를 입력합니다. : 1\n",
      "정수 b를 입력합니다. : 10\n",
      "1 + 2 + 3 + 4 + 5 + 6 + 7 + 8 + 9 + 10 = 55\n"
     ]
    }
   ],
   "source": [
    "print(\"a부터 b까지 정수의 합을 구합니다.\")\n",
    "\n",
    "a = int(input(\"정수 a를 입력합니다. : \"))\n",
    "b = int(input(\"정수 b를 입력합니다. : \"))\n",
    "\n",
    "if a > b :\n",
    "    a, b = b, a\n",
    "\n",
    "sum = 0\n",
    "\n",
    "for i in range(a, b):\n",
    "    print(f'{i} + ', end ='')\n",
    "    sum = sum+i\n",
    "print(f'{b} = ', end = '')\n",
    "sum = sum + b\n",
    "\n",
    "print(sum)"
   ]
  },
  {
   "cell_type": "code",
   "execution_count": 32,
   "id": "1c4731c0",
   "metadata": {},
   "outputs": [
    {
     "name": "stdout",
     "output_type": "stream",
     "text": [
      "+와 -를 번갈아 출력합니다.\n",
      "몇 개를 출력할까요? : 2\n",
      "-+\n"
     ]
    }
   ],
   "source": [
    "print(\"+와 -를 번갈아 출력합니다.\")\n",
    "n = int(input(\"몇 개를 출력할까요? : \"))\n",
    "\n",
    "\n",
    "for i in range(n) :\n",
    "    if i % 2  :\n",
    "        print(\"+\", end=\"\")\n",
    "    else : \n",
    "        print(\"-\", end =\"\")\n",
    "print()"
   ]
  },
  {
   "cell_type": "code",
   "execution_count": null,
   "id": "2a10b226",
   "metadata": {},
   "outputs": [],
   "source": []
  },
  {
   "cell_type": "code",
   "execution_count": null,
   "id": "4f1eb814",
   "metadata": {},
   "outputs": [],
   "source": []
  }
 ],
 "metadata": {
  "kernelspec": {
   "display_name": "Python 3 (ipykernel)",
   "language": "python",
   "name": "python3"
  },
  "language_info": {
   "codemirror_mode": {
    "name": "ipython",
    "version": 3
   },
   "file_extension": ".py",
   "mimetype": "text/x-python",
   "name": "python",
   "nbconvert_exporter": "python",
   "pygments_lexer": "ipython3",
   "version": "3.9.7"
  }
 },
 "nbformat": 4,
 "nbformat_minor": 5
}
