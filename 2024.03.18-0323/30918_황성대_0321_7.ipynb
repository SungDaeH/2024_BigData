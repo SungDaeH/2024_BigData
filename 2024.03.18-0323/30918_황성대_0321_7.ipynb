{
 "cells": [
  {
   "cell_type": "markdown",
   "id": "f27cc7e0",
   "metadata": {},
   "source": [
    "# 30918_황성대_0321_7"
   ]
  },
  {
   "cell_type": "code",
   "execution_count": 16,
   "id": "bf01ef7b",
   "metadata": {},
   "outputs": [
    {
     "name": "stdout",
     "output_type": "stream",
     "text": [
      "+와 -를 번갈아 출력합니다.\n",
      "몇 개를 출력할까요? : 12\n",
      "+-+-+-+-+-+-"
     ]
    }
   ],
   "source": [
    "print(\"+와 -를 번갈아 출력합니다.\")\n",
    "n = int(input(\"몇 개를 출력할까요? : \"))\n",
    "\n",
    "for i in range(n):\n",
    "    if i % 2 :\n",
    "        print(f'-', end='')\n",
    "    else :\n",
    "        print(f'+', end ='')"
   ]
  },
  {
   "cell_type": "code",
   "execution_count": 18,
   "id": "8cfe7070",
   "metadata": {},
   "outputs": [
    {
     "name": "stdout",
     "output_type": "stream",
     "text": [
      "12\n",
      "+-+-+-+-+-+-\n"
     ]
    }
   ],
   "source": [
    "# range(처음값, 마지막값)\n",
    "\n",
    "n = int(input())\n",
    "\n",
    "\n",
    "for i in range(1, n+1):\n",
    "    if i % 2 :\n",
    "        print(f'+', end=\"\")\n",
    "    else :\n",
    "        print(f\"-\", end=\"\")\n",
    "print()"
   ]
  },
  {
   "cell_type": "code",
   "execution_count": 19,
   "id": "32763d0b",
   "metadata": {},
   "outputs": [
    {
     "name": "stdout",
     "output_type": "stream",
     "text": [
      "12\n",
      "+-+-+-+-+-+-\n"
     ]
    }
   ],
   "source": [
    "n = int(input())\n",
    "\n",
    "for _ in range(n // 2):\n",
    "    print('+-', end = '') # n // 2개의 +-를 출력\n",
    "if n % 2 :\n",
    "    print(\"+\", end = \"\") # n이 홀 수 일때만 +출력\n",
    "\n",
    "print()"
   ]
  },
  {
   "cell_type": "code",
   "execution_count": 28,
   "id": "b3a5f1ce",
   "metadata": {},
   "outputs": [
    {
     "name": "stdout",
     "output_type": "stream",
     "text": [
      "*를 출력합니다.\n",
      "몇 개를 출력할까요? : 12\n",
      "몇 개마다 줄바꿈할까요? : 5\n",
      "*****\n",
      "*****\n",
      "**"
     ]
    }
   ],
   "source": [
    "print(\"*를 출력합니다.\")\n",
    "\n",
    "n = int(input(\"몇 개를 출력할까요? : \"))\n",
    "l = int(input(\"몇 개마다 줄바꿈할까요? : \"))\n",
    "\n",
    "for i in range(n):\n",
    "    print(\"*\", end=\"\")\n",
    "    if i % l == l - 1: # n번 판단\n",
    "        print()"
   ]
  },
  {
   "cell_type": "code",
   "execution_count": 39,
   "id": "79f3a6af",
   "metadata": {},
   "outputs": [
    {
     "name": "stdout",
     "output_type": "stream",
     "text": [
      "1부터 n까지 정수의 합을 구합니다.\n",
      "n값을 입력하세요 : 0\n",
      "다시 입력하세요 : 0\n",
      "다시 입력하세요 : -1\n",
      "다시 입력하세요 : 12\n",
      "1부터 12까지 정수의 합은 78입니다.\n"
     ]
    }
   ],
   "source": [
    "print(\"1부터 n까지 정수의 합을 구합니다.\")\n",
    "n = int(input(\"n값을 입력하세요 : \"))\n",
    "\n",
    "sum = 0\n",
    "\n",
    "# if n <= 0 :\n",
    "while n <= 0:\n",
    "    n = int(input(\"다시 입력하세요 : \"))\n",
    "    \n",
    "for i in range(1,n+1):\n",
    "    sum += i\n",
    "print(f'1부터 {n}까지 정수의 합은 {sum}입니다.')"
   ]
  },
  {
   "cell_type": "code",
   "execution_count": 40,
   "id": "b40c1d65",
   "metadata": {},
   "outputs": [
    {
     "name": "stdout",
     "output_type": "stream",
     "text": [
      "1부터 n까지 정수의 합을 구합니다.\n",
      "n값을 입력하세요 : 0\n",
      "다시 입력하세요 : -6\n",
      "다시 입력하세요 : 12\n",
      "1부터 12까지 정수의 합은 78입니다.\n"
     ]
    }
   ],
   "source": [
    "print(\"1부터 n까지 정수의 합을 구합니다.\")\n",
    "n = int(input(\"n값을 입력하세요 : \"))\n",
    "\n",
    "sum = 0\n",
    "i = 1\n",
    "\n",
    "# if n <= 0 :\n",
    "while True:\n",
    "    n = int(input(\"다시 입력하세요 : \"))\n",
    "    if n>0:\n",
    "        break\n",
    "    \n",
    "for i in range(1,n+1):\n",
    "    sum += i\n",
    "    i += 1\n",
    "print(f'1부터 {n}까지 정수의 합은 {sum}입니다.')"
   ]
  },
  {
   "cell_type": "code",
   "execution_count": null,
   "id": "734c01c9",
   "metadata": {},
   "outputs": [],
   "source": []
  }
 ],
 "metadata": {
  "kernelspec": {
   "display_name": "Python 3 (ipykernel)",
   "language": "python",
   "name": "python3"
  },
  "language_info": {
   "codemirror_mode": {
    "name": "ipython",
    "version": 3
   },
   "file_extension": ".py",
   "mimetype": "text/x-python",
   "name": "python",
   "nbconvert_exporter": "python",
   "pygments_lexer": "ipython3",
   "version": "3.9.7"
  }
 },
 "nbformat": 4,
 "nbformat_minor": 5
}
