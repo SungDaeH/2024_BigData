{
 "cells": [
  {
   "cell_type": "markdown",
   "id": "133f2374",
   "metadata": {},
   "source": [
    "# 30918_황성대0926_6"
   ]
  },
  {
   "cell_type": "markdown",
   "id": "bae213a4",
   "metadata": {},
   "source": [
    "# 1180 : 만능 휴지통\n",
    "민호는 발명을 되게 좋아하고, 컴퓨터 프로그램도 되게 좋아한다.\n",
    "\n",
    "어느 날 민호는 컴퓨터를 사용하던 중 휴지통이 꽉 차서 불편을 느꼈다.\n",
    "\n",
    "그래서 휴지통이 n만큼 차면 알아서 쓰레기를 압축해주는 휴지통을 만들려고 한다.\n",
    "\n",
    "이 때 압축하는 알고리즘은 다음과 같다.\n",
    "\n",
    "10의 자릿수와 1의 자릿수를 서로 바꾸고, 거기에 2를 곱한다.\n",
    "\n",
    "예) 70일 경우 14가 된다.( 70 -> 07 -> 14 )\n",
    "\n",
    "이 알고리즘은 때로는 부작용을 일으켜 휴지통의 내용이 더 많아 질지도 모른다.\n",
    "\n",
    "만약 이 알고리즘의 심각한 부작용으로 수치가 100이 넘는다면 100의 자릿수는 무시된다."
   ]
  },
  {
   "cell_type": "code",
   "execution_count": 2,
   "id": "d8d3d491",
   "metadata": {},
   "outputs": [
    {
     "name": "stdout",
     "output_type": "stream",
     "text": [
      "90\n",
      "18\n",
      "GOOD\n"
     ]
    }
   ],
   "source": [
    "std_limit = input()\n",
    "\n",
    "amount = std_limit[1] + std_limit[0]\n",
    "amount = int(amount) * 2\n",
    "\n",
    "if(amount > 99):\n",
    "    amount = amount % 100\n",
    "\n",
    "if(amount <= 50):\n",
    "    print(amount)\n",
    "    print('GOOD')\n",
    "else:\n",
    "    print(amount)\n",
    "    print('OH MY GOD')"
   ]
  },
  {
   "cell_type": "markdown",
   "id": "f985e76f",
   "metadata": {},
   "source": [
    "# 1201 : 정수 판별\n",
    "정수 하나를 입력받아 양수이면 \"양수\", 음수이면 \"음수\", 0이면 0을 출력하시오."
   ]
  },
  {
   "cell_type": "code",
   "execution_count": 11,
   "id": "ea66f5c3",
   "metadata": {},
   "outputs": [
    {
     "name": "stdout",
     "output_type": "stream",
     "text": [
      "0\n",
      "0\n"
     ]
    }
   ],
   "source": [
    "n = int(input())\n",
    "\n",
    "if n > 0 :\n",
    "    print(\"양수\")\n",
    "elif n < 0:\n",
    "    print('음수')\n",
    "else :\n",
    "    print(0)"
   ]
  },
  {
   "cell_type": "markdown",
   "id": "b67dfd3c",
   "metadata": {},
   "source": [
    "# 1202 : 등급 판정\n",
    "\n",
    "재호는 이번 시험에 받은 성적이 궁금했다.\n",
    "\n",
    "점수가 입력되면 등급을 출력하시오.\n",
    "\n",
    "등급)\n",
    "\n",
    " 90점 이상 : A\n",
    "\n",
    "80점 이상 : B\n",
    "\n",
    "70점 이상 : C\n",
    "\n",
    "60점 이상 : D\n",
    "\n",
    "60점 미만 : F"
   ]
  },
  {
   "cell_type": "code",
   "execution_count": 12,
   "id": "09a9a1e1",
   "metadata": {},
   "outputs": [
    {
     "name": "stdout",
     "output_type": "stream",
     "text": [
      "80\n",
      "B\n"
     ]
    }
   ],
   "source": [
    "score = int(input())\n",
    "\n",
    "if score >= 90 :\n",
    "    print('A')\n",
    "elif score >= 80:\n",
    "    print('B')\n",
    "elif score >= 70:\n",
    "    print(\"C\")\n",
    "elif score >= 60:\n",
    "    print(\"D\")\n",
    "else :\n",
    "    print(\"F\")"
   ]
  },
  {
   "cell_type": "code",
   "execution_count": null,
   "id": "f737c6bc",
   "metadata": {},
   "outputs": [],
   "source": []
  }
 ],
 "metadata": {
  "kernelspec": {
   "display_name": "Python 3 (ipykernel)",
   "language": "python",
   "name": "python3"
  },
  "language_info": {
   "codemirror_mode": {
    "name": "ipython",
    "version": 3
   },
   "file_extension": ".py",
   "mimetype": "text/x-python",
   "name": "python",
   "nbconvert_exporter": "python",
   "pygments_lexer": "ipython3",
   "version": "3.9.7"
  }
 },
 "nbformat": 4,
 "nbformat_minor": 5
}
