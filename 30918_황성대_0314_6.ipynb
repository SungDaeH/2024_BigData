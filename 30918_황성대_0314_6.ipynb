{
 "cells": [
  {
   "cell_type": "markdown",
   "id": "464bed1f",
   "metadata": {},
   "source": [
    "## 30918_황성대_0314_6"
   ]
  },
  {
   "cell_type": "markdown",
   "id": "26763a85",
   "metadata": {},
   "source": [
    "# 3.1 데이터를 저장하는 공간 : 변수\n",
    "## 3.1.1 변수란"
   ]
  },
  {
   "cell_type": "code",
   "execution_count": 2,
   "id": "7e139312",
   "metadata": {},
   "outputs": [],
   "source": [
    "a = 10;"
   ]
  },
  {
   "cell_type": "code",
   "execution_count": 3,
   "id": "b777b6a7",
   "metadata": {},
   "outputs": [],
   "source": [
    "a = 20"
   ]
  },
  {
   "cell_type": "code",
   "execution_count": 4,
   "id": "0573a959",
   "metadata": {},
   "outputs": [
    {
     "name": "stdout",
     "output_type": "stream",
     "text": [
      "20\n"
     ]
    }
   ],
   "source": [
    "print(a)"
   ]
  },
  {
   "cell_type": "markdown",
   "id": "4edff422",
   "metadata": {},
   "source": [
    "## 3.1.2 변수에 값을 저장하고 사용하기"
   ]
  },
  {
   "cell_type": "code",
   "execution_count": 5,
   "id": "098f1e33",
   "metadata": {},
   "outputs": [
    {
     "name": "stdout",
     "output_type": "stream",
     "text": [
      "a\n",
      "10\n"
     ]
    }
   ],
   "source": [
    "a = 10\n",
    "print('a')\n",
    "print(a)"
   ]
  },
  {
   "cell_type": "code",
   "execution_count": 7,
   "id": "ed864107",
   "metadata": {},
   "outputs": [
    {
     "name": "stdout",
     "output_type": "stream",
     "text": [
      "가나다\n"
     ]
    }
   ],
   "source": [
    "print(\"가나다\")"
   ]
  },
  {
   "cell_type": "code",
   "execution_count": 8,
   "id": "85486b22",
   "metadata": {},
   "outputs": [
    {
     "name": "stdout",
     "output_type": "stream",
     "text": [
      "10\n"
     ]
    }
   ],
   "source": [
    "가나다 = 10\n",
    "print(가나다)"
   ]
  },
  {
   "cell_type": "code",
   "execution_count": 10,
   "id": "e19986fb",
   "metadata": {},
   "outputs": [
    {
     "name": "stdout",
     "output_type": "stream",
     "text": [
      "성일정보\n",
      "성일 정보\n"
     ]
    }
   ],
   "source": [
    "b='성일'\n",
    "c = \"정보\"\n",
    "print(b+c)\n",
    "print(b,c)"
   ]
  },
  {
   "cell_type": "code",
   "execution_count": 20,
   "id": "b771224f",
   "metadata": {},
   "outputs": [
    {
     "name": "stdout",
     "output_type": "stream",
     "text": [
      "유리 175.5 21 programming\n"
     ]
    }
   ],
   "source": [
    "name = \"유리\"\n",
    "height = \"175.5\"\n",
    "age = \"21\"\n",
    "hobby = 'programming'\n",
    "print(name, height, age, hobby)"
   ]
  },
  {
   "cell_type": "markdown",
   "id": "3993931a",
   "metadata": {},
   "source": [
    "```\n",
    "유리 키는 175.5 , 나이는 21 , 취미는 programming 입니다!\n",
    "```"
   ]
  },
  {
   "cell_type": "code",
   "execution_count": 23,
   "id": "b49da074",
   "metadata": {},
   "outputs": [
    {
     "name": "stdout",
     "output_type": "stream",
     "text": [
      "유리 키는 175.5, 나이는 21, 취미는 programming 입니다!\n"
     ]
    }
   ],
   "source": [
    "print(name +\" 키는 \"+ height +\", 나이는 \"+ age +\", 취미는 \"+ hobby +\" 입니다!\")"
   ]
  },
  {
   "cell_type": "code",
   "execution_count": 27,
   "id": "d02a688a",
   "metadata": {},
   "outputs": [
    {
     "name": "stdout",
     "output_type": "stream",
     "text": [
      "유리 키는 175.5 나이는 21  ,취미는 programming , 입니다!\n"
     ]
    }
   ],
   "source": [
    "print(name,\"키는\",height,\"나이는\",age,\" ,취미는\", hobby, \", 입니다!\")"
   ]
  },
  {
   "cell_type": "markdown",
   "id": "09599d99",
   "metadata": {},
   "source": [
    "```\n",
    "제임스 키는 186 , 나이는 24 , 취미는 요리하기 입니다!\n",
    "```"
   ]
  },
  {
   "cell_type": "code",
   "execution_count": 28,
   "id": "d7f74440",
   "metadata": {},
   "outputs": [
    {
     "name": "stdout",
     "output_type": "stream",
     "text": [
      "제임스 , 키는 186 , 취미는 요리하기 입니다!\n"
     ]
    }
   ],
   "source": [
    "name = \"제임스\"\n",
    "height = 186\n",
    "age = 24\n",
    "hobby = \"요리하기\"\n",
    "print(name, \", 키는\", height, \", 취미는\", hobby, \"입니다!\")"
   ]
  },
  {
   "cell_type": "code",
   "execution_count": 29,
   "id": "2f8eb068",
   "metadata": {},
   "outputs": [
    {
     "name": "stdout",
     "output_type": "stream",
     "text": [
      "제임스 키는 186, 나이는 24, 취미는 요리하기, 입니다!\n"
     ]
    }
   ],
   "source": [
    "print(\"{} 키는 {}, 나이는 {}, 취미는 {}, 입니다!\".format(name, height, age, hobby))"
   ]
  },
  {
   "cell_type": "code",
   "execution_count": 31,
   "id": "e0be337f",
   "metadata": {},
   "outputs": [
    {
     "name": "stdout",
     "output_type": "stream",
     "text": [
      "제임스 키는 186, 나이는 24, 취미는 요리하기입니다.\n"
     ]
    }
   ],
   "source": [
    "print(f'{name} 키는 {height}, 나이는 {age}, 취미는 {hobby}입니다.')"
   ]
  },
  {
   "cell_type": "markdown",
   "id": "9c8b71d8",
   "metadata": {},
   "source": [
    ">원의 넓이를 구해봅시다.\n",
    "```\n",
    "공식 : 파이 * 반지름 ** 2\n",
    "p = 3.141592\n",
    "r = 5\n",
    "```"
   ]
  },
  {
   "cell_type": "code",
   "execution_count": 35,
   "id": "dbbda203",
   "metadata": {},
   "outputs": [
    {
     "name": "stdout",
     "output_type": "stream",
     "text": [
      "원의 넓이는 78.5398 입니다\n",
      "원의 넓이 =  78.5398\n"
     ]
    }
   ],
   "source": [
    "p = 3.141592\n",
    "r = 5\n",
    "result = p*r**2\n",
    "print(\"원의 넓이는\", p*r**2, \"입니다\" )\n",
    "print(\"원의 넓이 = \", result)"
   ]
  },
  {
   "cell_type": "code",
   "execution_count": null,
   "id": "21c5b672",
   "metadata": {},
   "outputs": [],
   "source": []
  }
 ],
 "metadata": {
  "kernelspec": {
   "display_name": "Python 3 (ipykernel)",
   "language": "python",
   "name": "python3"
  },
  "language_info": {
   "codemirror_mode": {
    "name": "ipython",
    "version": 3
   },
   "file_extension": ".py",
   "mimetype": "text/x-python",
   "name": "python",
   "nbconvert_exporter": "python",
   "pygments_lexer": "ipython3",
   "version": "3.9.7"
  }
 },
 "nbformat": 4,
 "nbformat_minor": 5
}
