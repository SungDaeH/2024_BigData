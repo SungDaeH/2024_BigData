{
 "cells": [
  {
   "cell_type": "markdown",
   "id": "11e2d281",
   "metadata": {},
   "source": [
    "# 30918_황성대_0520_2"
   ]
  },
  {
   "cell_type": "markdown",
   "id": "21b0686f",
   "metadata": {},
   "source": [
    "# 1147 : 비트 연산자(<<)\n",
    "\n",
    "정수 a, x를 입력받아 a의 값을 x만큼 SHIFT(<<) 연산한 후 결과를 출력하시오.\n",
    "\n",
    "참고)\n",
    "\n",
    "비트 이동연산자 << 은 주어진 a를 구성하고 있는 비트를 왼쪽으로 x번 이동한 후 결과를 보여준다.\n",
    "\n",
    "이러한 비트 연산을 SHIFT 연산이라고도 부르고, <<로 표시한다.\n",
    "\n",
    "예)\n",
    "\n",
    "4<<1 : 0000 0100 ---> 0000 1000 (10진수:8)\n",
    "\n",
    "4<<2 : 0000 0100 ---> 0001 0000 (10진수:16)"
   ]
  },
  {
   "cell_type": "code",
   "execution_count": 1,
   "id": "d2a8c4e0",
   "metadata": {},
   "outputs": [
    {
     "name": "stdout",
     "output_type": "stream",
     "text": [
      "3 3\n",
      "24\n"
     ]
    }
   ],
   "source": [
    "a, b = map(int, input().split())\n",
    "\n",
    "print(a<<b)"
   ]
  },
  {
   "cell_type": "markdown",
   "id": "6a4c6330",
   "metadata": {},
   "source": [
    "# 1148 : 비트 연산자(>>)\n",
    "\n",
    "정수 a, x를 입력받아 a의 값을 x만큼 SHIFT(>>) 연산한 후 결과를 출력하시오.\n",
    "\n",
    "참고)\n",
    "\n",
    "비트연산자 >> 은 주어진 a값을 오른쪽으로 x번 이동한 후 결과를 출력한다.\n",
    "\n",
    "이러한 비트 연산을 SHIFT 연산이라고도 부르고, >>로 표시한다.\n",
    "\n",
    "예)\n",
    "\n",
    "4>>1 : 0000 0100 ---> 0000 0010 (10진수:2)\n",
    "\n",
    "7>>2 : 0000 0111 ---> 0000 0001 (10진수:1)"
   ]
  },
  {
   "cell_type": "code",
   "execution_count": 2,
   "id": "f7472a24",
   "metadata": {},
   "outputs": [
    {
     "name": "stdout",
     "output_type": "stream",
     "text": [
      "4 1\n",
      "2\n"
     ]
    }
   ],
   "source": [
    "a, b = map(int, input().split())\n",
    "\n",
    "print(a>>b)"
   ]
  },
  {
   "cell_type": "markdown",
   "id": "d02a9fa0",
   "metadata": {},
   "source": [
    "# 1149 : 두 수 중 큰 수\n",
    "두 정수 중 큰 정수를 출력한다."
   ]
  },
  {
   "cell_type": "code",
   "execution_count": 3,
   "id": "6f670256",
   "metadata": {},
   "outputs": [
    {
     "name": "stdout",
     "output_type": "stream",
     "text": [
      "2 7\n",
      "7\n"
     ]
    }
   ],
   "source": [
    "a, b = map(int, input().split())\n",
    "\n",
    "if a < b :\n",
    "    print(b)\n",
    "else :\n",
    "    print(a)"
   ]
  },
  {
   "cell_type": "markdown",
   "id": "084e83c1",
   "metadata": {},
   "source": [
    "# 1150 : 세 수 중 가장 작은 수\n",
    "세 정수가 주어지면 그 중 가장 작은 수를 출력한다."
   ]
  },
  {
   "cell_type": "code",
   "execution_count": 7,
   "id": "3d746a1e",
   "metadata": {},
   "outputs": [
    {
     "name": "stdout",
     "output_type": "stream",
     "text": [
      "7 7 7\n",
      "7\n"
     ]
    }
   ],
   "source": [
    "a,b,c = map(int, input().split())\n",
    "\n",
    "if a <= b and a <= c :\n",
    "    print(a)\n",
    "elif b <= a and b <= c :\n",
    "    print(b)\n",
    "elif c <= a and c <= b:\n",
    "    print(c)"
   ]
  },
  {
   "cell_type": "markdown",
   "id": "2520bbbb",
   "metadata": {},
   "source": [
    "# 1151 : 10보다 작은 수\n",
    "10보다 작은 수가 입력되면 small 을 출력, 10이상이면 아무것도 출력하지 마시오."
   ]
  },
  {
   "cell_type": "code",
   "execution_count": 9,
   "id": "891266e0",
   "metadata": {},
   "outputs": [
    {
     "name": "stdout",
     "output_type": "stream",
     "text": [
      "5\n",
      "small\n"
     ]
    }
   ],
   "source": [
    "a = int(input())\n",
    "\n",
    "if a < 10 :\n",
    "    print('small')"
   ]
  },
  {
   "cell_type": "markdown",
   "id": "05b115f4",
   "metadata": {},
   "source": [
    "# 1152 : 10보다 작은 수 (else 버전)\n",
    "10보다 작은 정수가 입력되면 small 을 출력, 그 이상의 수가 입력되면 big 을 출력하시오."
   ]
  },
  {
   "cell_type": "code",
   "execution_count": 10,
   "id": "0f8aa3e0",
   "metadata": {},
   "outputs": [
    {
     "name": "stdout",
     "output_type": "stream",
     "text": [
      "15\n",
      "big\n"
     ]
    }
   ],
   "source": [
    "a = int(input())\n",
    "\n",
    "if a < 10 :\n",
    "    print('small')\n",
    "else :\n",
    "    print('big')"
   ]
  },
  {
   "cell_type": "code",
   "execution_count": null,
   "id": "6f9a1f29",
   "metadata": {},
   "outputs": [],
   "source": []
  }
 ],
 "metadata": {
  "kernelspec": {
   "display_name": "Python 3 (ipykernel)",
   "language": "python",
   "name": "python3"
  },
  "language_info": {
   "codemirror_mode": {
    "name": "ipython",
    "version": 3
   },
   "file_extension": ".py",
   "mimetype": "text/x-python",
   "name": "python",
   "nbconvert_exporter": "python",
   "pygments_lexer": "ipython3",
   "version": "3.9.7"
  }
 },
 "nbformat": 4,
 "nbformat_minor": 5
}
