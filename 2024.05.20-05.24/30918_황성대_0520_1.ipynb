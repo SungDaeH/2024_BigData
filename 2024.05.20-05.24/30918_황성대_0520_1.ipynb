{
 "cells": [
  {
   "cell_type": "markdown",
   "id": "eb9698a0",
   "metadata": {},
   "source": [
    "# 30918_황성대_0520_1"
   ]
  },
  {
   "cell_type": "code",
   "execution_count": 10,
   "id": "507301ee",
   "metadata": {},
   "outputs": [],
   "source": [
    "olympic = [[1, '미국', 46, 37, 38, 121],\n",
    "          [2, '영국', 27, 23, 17, 67],\n",
    "          [3, '중국', 26, 18, 26, 70],\n",
    "          [4, '러시아', 19, 18, 19, 56],\n",
    "          [5, '독일', 17, 10, 15, 42],\n",
    "          [6, '일본', 12, 8, 21, 41],\n",
    "          [7,'프랑스',10,18,14,42],\n",
    "          [8,'대한민국',9,3,9,21]]"
   ]
  },
  {
   "cell_type": "code",
   "execution_count": 11,
   "id": "16500e32",
   "metadata": {},
   "outputs": [
    {
     "name": "stdout",
     "output_type": "stream",
     "text": [
      "미국 금메달 개수 : 46\n",
      "독일 금메달 개수 : 17\n"
     ]
    }
   ],
   "source": [
    "print(f'{olympic[0][1]} 금메달 개수 : {olympic[0][2]}')\n",
    "print(f'{olympic[4][1]} 금메달 개수 : {olympic[4][2]}')"
   ]
  },
  {
   "cell_type": "code",
   "execution_count": 12,
   "id": "1a212c35",
   "metadata": {},
   "outputs": [
    {
     "name": "stdout",
     "output_type": "stream",
     "text": [
      "금메달보다 은메달이 더 많은 나라\n",
      "프랑스\n"
     ]
    }
   ],
   "source": [
    "# 금메달보다 은메달이 더 많은 나라 출력하기\n",
    "print('금메달보다 은메달이 더 많은 나라')\n",
    "for row in olympic:\n",
    "    if row[2]<row[3]:\n",
    "        print(row[1])"
   ]
  },
  {
   "cell_type": "code",
   "execution_count": 13,
   "id": "4e7d4b85",
   "metadata": {},
   "outputs": [
    {
     "name": "stdout",
     "output_type": "stream",
     "text": [
      "금메달보다 동메달이 더 많은 나라\n",
      "일본\n",
      "프랑스\n"
     ]
    }
   ],
   "source": [
    "# 금메달보다 동메달이 더 많은 나라 출력하기\n",
    "print('금메달보다 동메달이 더 많은 나라')\n",
    "\n",
    "for row in olympic:\n",
    "    if row[2] < row[4]:\n",
    "        print(row[1])"
   ]
  },
  {
   "cell_type": "code",
   "execution_count": 16,
   "id": "0039aa57",
   "metadata": {},
   "outputs": [
    {
     "name": "stdout",
     "output_type": "stream",
     "text": [
      "금메달 전체의 개수는?\n",
      "166\n"
     ]
    }
   ],
   "source": [
    "# 금메달의 전체 개수를 출력하기\n",
    "print('금메달 전체의 개수는?')\n",
    "gold = 0\n",
    "\n",
    "for row in olympic:\n",
    "    gold += row[2]\n",
    "    \n",
    "print(gold)"
   ]
  },
  {
   "cell_type": "code",
   "execution_count": 17,
   "id": "cb8febc6",
   "metadata": {},
   "outputs": [],
   "source": [
    "import random"
   ]
  },
  {
   "cell_type": "code",
   "execution_count": 20,
   "id": "2094d0c4",
   "metadata": {},
   "outputs": [
    {
     "name": "stdout",
     "output_type": "stream",
     "text": [
      "['역사탐험대', '파이썬', '학습법', '영단어', '여행에세이', '삼국지']\n",
      "[17106, 18548, 15840, 23236, 15508, 16426]\n"
     ]
    }
   ],
   "source": [
    "book_name = [\"역사탐험대\",\"파이썬\",\"학습법\",\"영단어\",\"여행에세이\",\"삼국지\"]\n",
    "book_price = []\n",
    "\n",
    "for i in range(len(book_name)):\n",
    "    book_price.append(random.randint(15000, 25000))\n",
    "    \n",
    "print(book_name)\n",
    "print(book_price)"
   ]
  },
  {
   "cell_type": "code",
   "execution_count": 22,
   "id": "78d65752",
   "metadata": {},
   "outputs": [
    {
     "name": "stdout",
     "output_type": "stream",
     "text": [
      "가장 비싼 책은?\n",
      "영단어\n"
     ]
    }
   ],
   "source": [
    "# 가장 비싼 책은?\n",
    "\n",
    "print('가장 비싼 책은?')\n",
    "\n",
    "expensive = max(book_price)\n",
    "\n",
    "idx = book_price.index(expensive)\n",
    "\n",
    "print(book_name[idx])"
   ]
  },
  {
   "cell_type": "code",
   "execution_count": null,
   "id": "e3713f8a",
   "metadata": {},
   "outputs": [],
   "source": []
  }
 ],
 "metadata": {
  "kernelspec": {
   "display_name": "Python 3 (ipykernel)",
   "language": "python",
   "name": "python3"
  },
  "language_info": {
   "codemirror_mode": {
    "name": "ipython",
    "version": 3
   },
   "file_extension": ".py",
   "mimetype": "text/x-python",
   "name": "python",
   "nbconvert_exporter": "python",
   "pygments_lexer": "ipython3",
   "version": "3.9.7"
  }
 },
 "nbformat": 4,
 "nbformat_minor": 5
}
