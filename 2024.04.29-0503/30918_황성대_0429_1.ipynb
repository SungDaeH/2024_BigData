{
 "cells": [
  {
   "cell_type": "markdown",
   "id": "9f0e24bd",
   "metadata": {},
   "source": [
    "# 30918_황성대_0429_1"
   ]
  },
  {
   "cell_type": "code",
   "execution_count": null,
   "id": "a93c3707",
   "metadata": {},
   "outputs": [],
   "source": []
  }
 ],
 "metadata": {
  "kernelspec": {
   "display_name": "Python 3 (ipykernel)",
   "language": "python",
   "name": "python3"
  },
  "language_info": {
   "codemirror_mode": {
    "name": "ipython",
    "version": 3
   },
   "file_extension": ".py",
   "mimetype": "text/x-python",
   "name": "python",
   "nbconvert_exporter": "python",
   "pygments_lexer": "ipython3",
   "version": "3.9.7"
  }
 },
 "nbformat": 4,
 "nbformat_minor": 5
}
