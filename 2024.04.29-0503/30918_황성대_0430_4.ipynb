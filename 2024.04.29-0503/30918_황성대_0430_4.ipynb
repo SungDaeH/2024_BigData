{
 "cells": [
  {
   "cell_type": "markdown",
   "id": "9b703fac",
   "metadata": {},
   "source": [
    "# 30918_황성대_0430_4"
   ]
  },
  {
   "cell_type": "code",
   "execution_count": 2,
   "id": "7f5d1072",
   "metadata": {},
   "outputs": [
    {
     "name": "stdout",
     "output_type": "stream",
     "text": [
      "연도 :  2024\n",
      "월 :  04\n",
      "일 :  30\n"
     ]
    }
   ],
   "source": [
    "date = '2024-04-30'\n",
    "\n",
    "print('연도 : ', date[:4])\n",
    "print('월 : ', date[5:7])\n",
    "print('일 : ', date[8:])"
   ]
  },
  {
   "cell_type": "code",
   "execution_count": 5,
   "id": "c4586110",
   "metadata": {},
   "outputs": [
    {
     "name": "stdout",
     "output_type": "stream",
     "text": [
      "['준원이', '바보', '바보']\n",
      "준원이\n",
      "바보\n",
      "바보\n"
     ]
    }
   ],
   "source": [
    "# 공백으로 문장을 나누는 명령어 split\n",
    "\n",
    "a = '준원이 바보 바보'\n",
    "print(a.split()) # list\n",
    "print(a.split()[0])\n",
    "print(a.split()[1])\n",
    "print(a.split()[2])"
   ]
  },
  {
   "cell_type": "code",
   "execution_count": 8,
   "id": "ca155a24",
   "metadata": {},
   "outputs": [
    {
     "name": "stdout",
     "output_type": "stream",
     "text": [
      "['2024', '04', '30']\n",
      "2024\n",
      "04\n",
      "30\n"
     ]
    }
   ],
   "source": [
    "# -(하이픈)을 기준으로 split\n",
    "\n",
    "date = '2024-04-30'\n",
    "\n",
    "print(date.split('-'))\n",
    "print(date.split('-')[0])\n",
    "print(date.split('-')[1])\n",
    "print(date.split('-')[2])"
   ]
  },
  {
   "cell_type": "code",
   "execution_count": 11,
   "id": "6c32f8ce",
   "metadata": {},
   "outputs": [
    {
     "name": "stdout",
     "output_type": "stream",
     "text": [
      "정렬 후 :  ['피자', '파스타', '치킨', '스테이크', '바나나', '된장찌개', '감자칩']\n"
     ]
    }
   ],
   "source": [
    "# 리스트 원소 정렬하기 .sort()\n",
    "\n",
    "food = ['피자', '치킨', '스테이크', '된장찌개', '바나나', '파스타', '감자칩']\n",
    "\n",
    "food.sort()\n",
    "print('정렬 후 : ', food)"
   ]
  },
  {
   "cell_type": "code",
   "execution_count": 12,
   "id": "3103f9a0",
   "metadata": {},
   "outputs": [
    {
     "name": "stdout",
     "output_type": "stream",
     "text": [
      "역순 정렬 후 :  ['피자', '파스타', '치킨', '스테이크', '바나나', '된장찌개', '감자칩']\n"
     ]
    }
   ],
   "source": [
    "food.sort(reverse=True)\n",
    "\n",
    "print('역순 정렬 후 : ', food)"
   ]
  },
  {
   "cell_type": "code",
   "execution_count": 14,
   "id": "2a93e139",
   "metadata": {},
   "outputs": [
    {
     "name": "stdout",
     "output_type": "stream",
     "text": [
      "[56, 53]\n"
     ]
    }
   ],
   "source": [
    "# 문제 역순으로 정렬하고 첫번째 두번째를 출력해 보기\n",
    "spending_6mon = [25, 36, 8, 53, 24, 56]\n",
    "\n",
    "spending_6mon.sort(reverse = True)\n",
    "\n",
    "print(spending_6mon[0:2])"
   ]
  },
  {
   "cell_type": "code",
   "execution_count": 16,
   "id": "26b4f017",
   "metadata": {},
   "outputs": [
    {
     "name": "stdout",
     "output_type": "stream",
     "text": [
      "최대값 :  56\n",
      "최소값 :  8\n"
     ]
    }
   ],
   "source": [
    "# 리스트 원소 중 최대값, 최솟값 찾기 max min\n",
    "\n",
    "spending_6mon = [25, 36, 8, 56, 24, 56]\n",
    "\n",
    "print(\"최대값 : \", max(spending_6mon))\n",
    "print(\"최소값 : \", min(spending_6mon))"
   ]
  },
  {
   "cell_type": "code",
   "execution_count": 17,
   "id": "123e7932",
   "metadata": {},
   "outputs": [
    {
     "name": "stdout",
     "output_type": "stream",
     "text": [
      "전체합 :  205\n"
     ]
    }
   ],
   "source": [
    "# 리스트 원소 전체의 합 : sum\n",
    "\n",
    "print('전체합 : ', sum(spending_6mon))"
   ]
  },
  {
   "cell_type": "code",
   "execution_count": 20,
   "id": "eedce9ad",
   "metadata": {},
   "outputs": [
    {
     "name": "stdout",
     "output_type": "stream",
     "text": [
      "24의 위치는 :  5\n"
     ]
    }
   ],
   "source": [
    "# 리스트안의 원소의 위치를 찾기 index\n",
    "print('24의 위치는 : ',spending_6mon.index(24)+1)"
   ]
  },
  {
   "cell_type": "code",
   "execution_count": null,
   "id": "83c8713f",
   "metadata": {},
   "outputs": [],
   "source": []
  }
 ],
 "metadata": {
  "kernelspec": {
   "display_name": "Python 3 (ipykernel)",
   "language": "python",
   "name": "python3"
  },
  "language_info": {
   "codemirror_mode": {
    "name": "ipython",
    "version": 3
   },
   "file_extension": ".py",
   "mimetype": "text/x-python",
   "name": "python",
   "nbconvert_exporter": "python",
   "pygments_lexer": "ipython3",
   "version": "3.9.7"
  }
 },
 "nbformat": 4,
 "nbformat_minor": 5
}
