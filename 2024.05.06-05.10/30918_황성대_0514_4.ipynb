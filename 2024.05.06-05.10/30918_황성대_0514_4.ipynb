{
 "cells": [
  {
   "cell_type": "markdown",
   "id": "cf215550",
   "metadata": {},
   "source": [
    "# 30918_황성대_0514_4"
   ]
  },
  {
   "cell_type": "markdown",
   "id": "9298318f",
   "metadata": {},
   "source": [
    "# 1131 : 문자 출력하기\n",
    "입력된 문자를 그대로 출력한다."
   ]
  },
  {
   "cell_type": "code",
   "execution_count": 2,
   "id": "85c5f7bf",
   "metadata": {},
   "outputs": [
    {
     "name": "stdout",
     "output_type": "stream",
     "text": [
      "a\n",
      "a\n"
     ]
    }
   ],
   "source": [
    "input_word = input()\n",
    "print(input_word)"
   ]
  },
  {
   "cell_type": "markdown",
   "id": "fd1f31be",
   "metadata": {},
   "source": [
    "# 1132 : 문자열 출력하기\n",
    "한 단어를 입력받아 출력한다."
   ]
  },
  {
   "cell_type": "code",
   "execution_count": 3,
   "id": "4c408dbf",
   "metadata": {},
   "outputs": [
    {
     "name": "stdout",
     "output_type": "stream",
     "text": [
      "cat\n",
      "cat\n"
     ]
    }
   ],
   "source": [
    "input_word = input()\n",
    "print(input_word)"
   ]
  },
  {
   "cell_type": "markdown",
   "id": "770589cc",
   "metadata": {},
   "source": [
    "# 1133 : 공백이 있는 문자열 입출력\n",
    "scanf(\"%s\", str);를 사용하면 공백이후의 문자를 입력받지 못한다.\n",
    "\n",
    "공백이 있는 문자열을 입력받아 출력해보자."
   ]
  },
  {
   "cell_type": "code",
   "execution_count": 4,
   "id": "b393ac15",
   "metadata": {},
   "outputs": [
    {
     "name": "stdout",
     "output_type": "stream",
     "text": [
      "black sheep wall\n",
      "black sheep wall\n"
     ]
    }
   ],
   "source": [
    "word = input()\n",
    "print(word)"
   ]
  },
  {
   "cell_type": "markdown",
   "id": "01e196c7",
   "metadata": {},
   "source": [
    "# 1135 : 관계연산자 1\n",
    "\n",
    "두 정수(a, b)를 입력받아 a가 b보다 크거나 같으면(이상) 1, a가 b보다 작으면(미만) 0을 출력하는 프로그램을 작성해보자.\n",
    "\n",
    "참고)\n",
    "\n",
    "어떤 값을 비교하기 위해 관계연산자를 사용할 수 있다.\n",
    "\n",
    "관계연산자는 주어진 2개 값을 비교하고, 그 결과가 참인 경우, 참(true)을 나타내는 정수값 1로 계산되고 거짓인 경우, 거짓(false)를 나타내는 정수값 0으로 계산된다.\n",
    "\n",
    "관계연산자도 일반적인 사칙연산자처럼 주어진 두 수를 이용해 계산을 수행하고 그 결과를 1(참), 또는 0(거짓)으로 계산해 주는 연산자이다.\n",
    "\n",
    "관계연산자의 종류는 다음과 같다. >, <, >=, <=, ==(같다), !=(다르다)"
   ]
  },
  {
   "cell_type": "code",
   "execution_count": 6,
   "id": "ff0e1bd4",
   "metadata": {},
   "outputs": [
    {
     "name": "stdout",
     "output_type": "stream",
     "text": [
      "2 3\n",
      "0\n"
     ]
    }
   ],
   "source": [
    "a, b = map(int, input().split())\n",
    "\n",
    "if a >= b :\n",
    "    print(1)\n",
    "else :\n",
    "    print(0)"
   ]
  },
  {
   "cell_type": "markdown",
   "id": "716a5118",
   "metadata": {},
   "source": [
    "# 1136 : 관계연산자 2\n",
    "두 정수(a, b)를 입력받아 a와 b가 같으면 1, 같지 않으면 0을 출력하는 프로그램을 작성하시오.\n",
    "\n",
    "참고)\n",
    "\n",
    "어떤 값을 비교하기 위해 관계연산자를 사용할 수 있다.\n",
    "\n",
    "관계연산자는 주어진 2개 값을 비교하고, 그 결과가 참인 경우, 참(true)을 나타내는 정수값 1로 계산되고 거짓인 경우, 거짓(false)를 나타내는 정수값 0으로 계산된다.\n",
    "\n",
    "관계연산자도 일반적인 사칙연산자처럼 주어진 두 수를 이용해 계산을 수행하고 그 결과를 1(참), 또는 0(거짓)으로 계산해 주는 연산자이다. 관계연산자는 다음과 같다. >, <, >=, <=, ==(같다), !=(다르다)"
   ]
  },
  {
   "cell_type": "code",
   "execution_count": 8,
   "id": "4702845c",
   "metadata": {},
   "outputs": [
    {
     "name": "stdout",
     "output_type": "stream",
     "text": [
      "2 2\n",
      "1\n"
     ]
    }
   ],
   "source": [
    "a, b = map(int, input().split())\n",
    "\n",
    "if a == b :\n",
    "    print(1)\n",
    "else :\n",
    "    print(0)"
   ]
  },
  {
   "cell_type": "code",
   "execution_count": null,
   "id": "21fea900",
   "metadata": {},
   "outputs": [],
   "source": []
  }
 ],
 "metadata": {
  "kernelspec": {
   "display_name": "Python 3 (ipykernel)",
   "language": "python",
   "name": "python3"
  },
  "language_info": {
   "codemirror_mode": {
    "name": "ipython",
    "version": 3
   },
   "file_extension": ".py",
   "mimetype": "text/x-python",
   "name": "python",
   "nbconvert_exporter": "python",
   "pygments_lexer": "ipython3",
   "version": "3.9.7"
  }
 },
 "nbformat": 4,
 "nbformat_minor": 5
}
