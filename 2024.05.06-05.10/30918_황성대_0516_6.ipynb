{
 "cells": [
  {
   "cell_type": "markdown",
   "id": "6aa5e21e",
   "metadata": {},
   "source": [
    "# 30918_황성대_0516_6"
   ]
  },
  {
   "cell_type": "markdown",
   "id": "1610942f",
   "metadata": {},
   "source": [
    "# 1137 : 관계연산자 3\n",
    "두 정수(a, b)를 입력받아 a와 b가 같으면 0, 같지 않으면 1을 출력하는 프로그램을 작성하시오.\n",
    "\n",
    "참고)\n",
    "\n",
    "어떤 값을 비교하기 위해 비교/관계연산자(comparison/relational)를 사용할 수 있다.\n",
    "\n",
    "관계연산자는 주어진 2개 값을 비교하고, 그 결과가 참인 경우, 참(true)을 나타내는 정수값 1로 계산되고 거짓인 경우, 거짓(false)를 나타내는 정수값 0으로 계산된다.\n",
    "\n",
    "비교/관계연산자도 일반적인 사칙연산자처럼 주어진 두 수를 이용해 계산을 수행하고 그 결과를 1(참), 또는 0(거짓)으로 계산해 주는 연산자이다.\n",
    "\n",
    "비교/관계연산자는 >, <, >=, <=, ==(같다), !=(다르다) 의 4가지가 있다."
   ]
  },
  {
   "cell_type": "code",
   "execution_count": 1,
   "id": "71d9eef4",
   "metadata": {},
   "outputs": [
    {
     "name": "stdout",
     "output_type": "stream",
     "text": [
      "2 3\n",
      "1\n"
     ]
    }
   ],
   "source": [
    "a, b = map(int, input().split())\n",
    "\n",
    "if a != b :\n",
    "    print(1)\n",
    "else :\n",
    "    print(0)"
   ]
  },
  {
   "cell_type": "markdown",
   "id": "74c5bf6e",
   "metadata": {},
   "source": [
    "# 1138 : 논리 연산자(NOT)\n",
    "\n",
    "1(true, 참) 또는 0(false, 거짓) 이 입력되었을 때 결과를 반대로 출력하는 프로그램을 작성해보자.\n",
    "\n",
    "참고)\n",
    "\n",
    "C언어에서 비교/관계 연산(==, !=, >, <, >=, <=)이 수행될 때, 0은 거짓(false)을 의미하고, 0이 아닌 모든 수는 참(true)으로 인식한다.\n",
    "\n",
    "참 또는 거짓의 논리값을 역(반대)로 바꾸기 위해서는 논리(logical) 연산자 ! 를 사용할 수 있다.\n",
    "\n",
    "이러한 논리 연산을 NOT 연산이라고도 부른다.\n",
    "\n",
    "참, 거짓의 논리값(boolean value, 불 값을 다루어주는 논리연산자는 !(not), &&(and), ||(or) 이 있다."
   ]
  },
  {
   "cell_type": "code",
   "execution_count": 2,
   "id": "382c0cd7",
   "metadata": {},
   "outputs": [
    {
     "name": "stdout",
     "output_type": "stream",
     "text": [
      "1\n",
      "0\n"
     ]
    }
   ],
   "source": [
    "a = int(input())\n",
    "\n",
    "if bool(a) == True :\n",
    "    print(0)\n",
    "else :\n",
    "    print(1)"
   ]
  },
  {
   "cell_type": "markdown",
   "id": "18f458b1",
   "metadata": {},
   "source": [
    "# 1139 : 논리 연산자(AND)\n",
    "\n",
    "두 가지의 참(1) 또는 거짓(0)이 입력될 때, 모두 참일 때는 1이, 그렇지 않으면 0이 출력되는 프로그램을 작성해보자.\n",
    "\n",
    "참고)\n",
    "\n",
    "논리연산자 && 는 주어진 2개의 논리값이 모두 참(1) 일 때에 1(참)으로 계산하고,이외의 경우에는 0(거짓) 으로 계산한다.\n",
    "\n",
    "이러한 논리 연산을 AND 연산이라고도 부르고, &&로 표시한다."
   ]
  },
  {
   "cell_type": "code",
   "execution_count": 3,
   "id": "6f5cc6c6",
   "metadata": {},
   "outputs": [
    {
     "name": "stdout",
     "output_type": "stream",
     "text": [
      "1 0\n",
      "0\n"
     ]
    }
   ],
   "source": [
    "a, b = map(int, input().split())\n",
    "\n",
    "if bool(a) == True and bool(b) == True:\n",
    "    print(1)\n",
    "else :\n",
    "    print(0)"
   ]
  },
  {
   "cell_type": "markdown",
   "id": "5389cdfc",
   "metadata": {},
   "source": [
    "# 1140 : 논리 연산자(OR)\n",
    "두 가지의 참(1) 또는 거짓(0)이 입력될 때, 둘 중 하나라도 참일 경우 1이, 그렇지 않으면 0이 출력되는 프로그램을 작성해보자.\n",
    "\n",
    "참고)\n",
    "\n",
    "논리연산자 || 는 주어진 2개의 논리값이 하나라도 참(1) 일 때에 1(참)으로 계산하고, 이외의 경우에는 0(거짓) 으로 계산한다.\n",
    "\n",
    "이러한 논리 연산을 OR 연산이라고도 부르고, ||로 표시한다."
   ]
  },
  {
   "cell_type": "code",
   "execution_count": 5,
   "id": "9610cd36",
   "metadata": {},
   "outputs": [
    {
     "name": "stdout",
     "output_type": "stream",
     "text": [
      "0 1\n",
      "1\n"
     ]
    }
   ],
   "source": [
    "a, b = map(int, input().split())\n",
    "\n",
    "if bool(a) == True or bool(b) == True:\n",
    "    print(1)\n",
    "else :\n",
    "    print(0)"
   ]
  },
  {
   "cell_type": "markdown",
   "id": "7a22c7f8",
   "metadata": {},
   "source": [
    "# 1143 : 비트 연산자(AND)\n",
    "두 수를 입력받아 비트단위로 AND연산한 후 결과를 출력하시오.\n",
    "\n",
    "참고)\n",
    "\n",
    "비트연산자 & 는 주어진 2개의 값을 2진법으로 변환한 뒤, 비트별로 AND 연산을 수행한 뒤 결과를 출력한다.\n",
    "\n",
    "이러한 비트 연산을 AND 연산이라고도 부르고, &로 표시한다.\n",
    "\n",
    "7 : 0000 0111\n",
    "\n",
    "4 : 0000 0100\n",
    "\n",
    "7&4 : 0000 0100  --> 10진수 : 4"
   ]
  },
  {
   "cell_type": "code",
   "execution_count": 7,
   "id": "76d989fb",
   "metadata": {},
   "outputs": [
    {
     "name": "stdout",
     "output_type": "stream",
     "text": [
      "7 4\n",
      "4\n"
     ]
    }
   ],
   "source": [
    "a, b = map(int, input().split())\n",
    "\n",
    "print(a&b)"
   ]
  },
  {
   "cell_type": "markdown",
   "id": "bd7ce05c",
   "metadata": {},
   "source": [
    "# 1144 : 비트 연산자(OR)\n",
    "\n",
    "두 수를 입력받아 비트단위로 OR연산한 후 결과를 출력하시오.\n",
    "\n",
    "참고)\n",
    "\n",
    "비트연산자 | 은 주어진 2개의 값을 2진법으로 변환한 뒤, 비트별로 OR 연산을 수행한 뒤 결과를 출력한다.\n",
    "\n",
    "이러한 비트 연산을 OR 연산이라고도 부르고, |로 표시한다.\n",
    "\n",
    "예)\n",
    "\n",
    "7 : 0000 0111\n",
    "\n",
    "4 : 0000 0100\n",
    "\n",
    "7|4 : 0000 0111"
   ]
  },
  {
   "cell_type": "code",
   "execution_count": 9,
   "id": "916a4102",
   "metadata": {},
   "outputs": [
    {
     "name": "stdout",
     "output_type": "stream",
     "text": [
      "3 5\n",
      "7\n"
     ]
    }
   ],
   "source": [
    "a, b = map(int, input().split())\n",
    "\n",
    "print(a|b)"
   ]
  },
  {
   "cell_type": "code",
   "execution_count": null,
   "id": "0e05a0f7",
   "metadata": {},
   "outputs": [],
   "source": []
  }
 ],
 "metadata": {
  "kernelspec": {
   "display_name": "Python 3 (ipykernel)",
   "language": "python",
   "name": "python3"
  },
  "language_info": {
   "codemirror_mode": {
    "name": "ipython",
    "version": 3
   },
   "file_extension": ".py",
   "mimetype": "text/x-python",
   "name": "python",
   "nbconvert_exporter": "python",
   "pygments_lexer": "ipython3",
   "version": "3.9.7"
  }
 },
 "nbformat": 4,
 "nbformat_minor": 5
}
