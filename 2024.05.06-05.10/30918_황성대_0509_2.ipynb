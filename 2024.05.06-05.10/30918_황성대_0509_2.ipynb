{
 "cells": [
  {
   "cell_type": "markdown",
   "id": "c2bef989",
   "metadata": {},
   "source": [
    "# 30918_황성대_0509_2"
   ]
  },
  {
   "cell_type": "markdown",
   "id": "cff8c0bf",
   "metadata": {},
   "source": [
    "# 배열 알고리즘\n",
    "\n"
   ]
  },
  {
   "cell_type": "code",
   "execution_count": 5,
   "id": "98733136",
   "metadata": {},
   "outputs": [
    {
     "name": "stdout",
     "output_type": "stream",
     "text": [
      "인덱스를 입력하시오 : 2\n",
      "값을 입력하시오 : 10\n",
      "i : 9번, 배열 : [1, 2, 3, 4, 5, 6, 7, 8, 0, 0]\n",
      "i : 8번, 배열 : [1, 2, 3, 4, 5, 6, 7, 8, 8, 0]\n",
      "i : 7번, 배열 : [1, 2, 3, 4, 5, 6, 7, 7, 8, 0]\n",
      "i : 6번, 배열 : [1, 2, 3, 4, 5, 6, 6, 7, 8, 0]\n",
      "i : 5번, 배열 : [1, 2, 3, 4, 5, 5, 6, 7, 8, 0]\n",
      "i : 4번, 배열 : [1, 2, 3, 4, 4, 5, 6, 7, 8, 0]\n",
      "i : 3번, 배열 : [1, 2, 3, 3, 4, 5, 6, 7, 8, 0]\n",
      "[1, 2, 10, 3, 4, 5, 6, 7, 8, 0]\n"
     ]
    }
   ],
   "source": [
    "배열 = [1,2,3,4,5,6,7,8,0,0]\n",
    "\n",
    "인덱스 = int(input(\"인덱스를 입력하시오 : \"))\n",
    "값 = int(input(\"값을 입력하시오 : \"))\n",
    "\n",
    "for i in range(len(배열)-1, 인덱스, -1):\n",
    "    배열[i] = 배열[i-1]\n",
    "    print(f'i : {i}번, 배열 : {배열}')\n",
    "    \n",
    "배열[인덱스] = 값\n",
    "\n",
    "print(배열)"
   ]
  },
  {
   "cell_type": "markdown",
   "id": "b3eac3ca",
   "metadata": {},
   "source": [
    "영어 단어장 만들기"
   ]
  },
  {
   "cell_type": "code",
   "execution_count": 8,
   "id": "1ef35f5d",
   "metadata": {},
   "outputs": [
    {
     "name": "stdout",
     "output_type": "stream",
     "text": [
      "영어단어, 뜻 : banana,바나나\n",
      "영어단어, 뜻 : \n"
     ]
    },
    {
     "data": {
      "text/plain": [
       "{'banana': '바나나'}"
      ]
     },
     "execution_count": 8,
     "metadata": {},
     "output_type": "execute_result"
    }
   ],
   "source": [
    "dict_word = {}\n",
    "\n",
    "while True :\n",
    "    input_word = input(\"영어단어, 뜻 : \")\n",
    "    if input_word == '':\n",
    "        break\n",
    "    \n",
    "    eng = input_word.split(',')[0]\n",
    "    kor = input_word.split(',')[1]\n",
    "    \n",
    "    dict_word[eng] = kor\n",
    "dict_word"
   ]
  },
  {
   "cell_type": "markdown",
   "id": "a2653551",
   "metadata": {},
   "source": [
    "할인"
   ]
  },
  {
   "cell_type": "code",
   "execution_count": 11,
   "id": "b059115b",
   "metadata": {},
   "outputs": [
    {
     "name": "stdout",
     "output_type": "stream",
     "text": [
      "가격 : 100000\n",
      "\n",
      "가격 : 100000\n",
      "할인율 : 10\n",
      "할인가 : 10000.0\n",
      "지불금액 : 90000.0\n",
      "\n"
     ]
    }
   ],
   "source": [
    "price = int(input('가격 : '))\n",
    "\n",
    "if price >= 100000:\n",
    "    dc = 10\n",
    "elif price >= 50000:\n",
    "    dc = 7\n",
    "elif price >= 10000:\n",
    "    dc = 5\n",
    "else :\n",
    "    dc = 0\n",
    "\n",
    "print(f'''\n",
    "가격 : {price}\n",
    "할인율 : {dc}\n",
    "할인가 : {price * (dc/100)}\n",
    "지불금액 : {price - price*(dc/100)}\n",
    "''')"
   ]
  },
  {
   "cell_type": "markdown",
   "id": "edc6813f",
   "metadata": {},
   "source": [
    "사칙연산 프로그램"
   ]
  },
  {
   "cell_type": "code",
   "execution_count": 13,
   "id": "981f8704",
   "metadata": {},
   "outputs": [
    {
     "name": "stdout",
     "output_type": "stream",
     "text": [
      "2\n",
      "1\n",
      "기호 : +\n",
      "2 + 1 = 3\n"
     ]
    }
   ],
   "source": [
    "num1 = int(input())\n",
    "num2 = int(input())\n",
    "op = input(\"기호 : \")\n",
    "\n",
    "if op == \"+\":\n",
    "    print(f'{num1} + {num2} = {num1+num2}')\n",
    "elif op == \"-\":\n",
    "    print(f'{num1} - {num2} = {num1-num2}')\n",
    "elif op == \"*\":\n",
    "    print(f'{num1} * {num2} = {num1*num2}')\n",
    "elif op == \"/\":\n",
    "    print(f'{num1} / {num2} = {num1/num2}')\n",
    "else :\n",
    "    print(\"다시 입력하시오\")"
   ]
  },
  {
   "cell_type": "code",
   "execution_count": 19,
   "id": "d39f7643",
   "metadata": {},
   "outputs": [
    {
     "name": "stdout",
     "output_type": "stream",
     "text": [
      "숫자를 입력하시오(1~ 100) : 60\n",
      "Down\n",
      "숫자를 입력하시오(1~ 100) : 40\n",
      "Down\n",
      "숫자를 입력하시오(1~ 100) : 20\n",
      "정답입니다.\n",
      "3회 만에 맞췄습니다.\n"
     ]
    }
   ],
   "source": [
    "# 랜덤 숫자 Up&Down\n",
    "\n",
    "import random\n",
    "\n",
    "def guess_random_game(max_attempts=5):\n",
    "    cnt = 0 \n",
    "    num = random.randint(1,100)\n",
    "    \n",
    "    while cnt < max_attempts :\n",
    "        cnt += 1\n",
    "        answer = int(input(\"숫자를 입력하시오(1~ 100) : \"))\n",
    "        if answer == num :\n",
    "            print('정답입니다.')\n",
    "            print(f'{cnt}회 만에 맞췄습니다.')\n",
    "            return\n",
    "        if answer > num :\n",
    "            print('Down')\n",
    "        else :\n",
    "            print('Up')\n",
    "    print(f\"횟수가 끝났습니다. 정답은 {num}입니다.\")\n",
    "guess_random_game()"
   ]
  },
  {
   "cell_type": "code",
   "execution_count": 20,
   "id": "abc7b8f2",
   "metadata": {},
   "outputs": [
    {
     "name": "stdout",
     "output_type": "stream",
     "text": [
      "id : id123\n",
      "pwd : 123\n",
      "pwd를 다시입력하시오\n",
      "id : 123\n",
      "pwd : pwd123\n",
      "id를 다시입력하시오\n",
      "id : id123\n",
      "pwd : pwd123\n"
     ]
    }
   ],
   "source": [
    "# id pwd\n",
    "\n",
    "id = 'id123'\n",
    "pwd = 'pwd123'\n",
    "\n",
    "while True :\n",
    "    input_id = input('id : ')\n",
    "    input_pwd = input('pwd : ')\n",
    "    \n",
    "    if input_id == id and input_pwd == pwd :\n",
    "        break\n",
    "    \n",
    "    if id != input_id :\n",
    "        print('id를 다시입력하시오')\n",
    "    if pwd != input_pwd :\n",
    "        print('pwd를 다시입력하시오')"
   ]
  },
  {
   "cell_type": "code",
   "execution_count": null,
   "id": "88144dd5",
   "metadata": {},
   "outputs": [],
   "source": []
  }
 ],
 "metadata": {
  "kernelspec": {
   "display_name": "Python 3 (ipykernel)",
   "language": "python",
   "name": "python3"
  },
  "language_info": {
   "codemirror_mode": {
    "name": "ipython",
    "version": 3
   },
   "file_extension": ".py",
   "mimetype": "text/x-python",
   "name": "python",
   "nbconvert_exporter": "python",
   "pygments_lexer": "ipython3",
   "version": "3.9.7"
  }
 },
 "nbformat": 4,
 "nbformat_minor": 5
}
