{
 "cells": [
  {
   "cell_type": "markdown",
   "id": "1bcde69e",
   "metadata": {},
   "source": [
    " # 30918_황성대_0507_4"
   ]
  },
  {
   "cell_type": "markdown",
   "id": "bd3b3a8c",
   "metadata": {},
   "source": [
    "# 수행평가 예상문제\n",
    "\n",
    "    문제 6\n",
    "    영어단어장 만들기 프로그램"
   ]
  },
  {
   "cell_type": "code",
   "execution_count": 2,
   "id": "48caaa67",
   "metadata": {},
   "outputs": [
    {
     "name": "stdout",
     "output_type": "stream",
     "text": [
      "영어단어, 뜻 : banana, 바나나\n",
      "영어단어, 뜻 : \n"
     ]
    },
    {
     "data": {
      "text/plain": [
       "{'banana': ' 바나나'}"
      ]
     },
     "execution_count": 2,
     "metadata": {},
     "output_type": "execute_result"
    }
   ],
   "source": [
    "# 빈 딕셔너리 만들기\n",
    "\n",
    "dict_word = {}\n",
    "\n",
    "# 공백을 입력할때까지 입력 키값과 밸류값 받기\n",
    "\n",
    "while True:\n",
    "    input_word = input('영어단어, 뜻 : ')\n",
    "    if input_word == '':\n",
    "        break\n",
    "    # 키값과 밸류값 저장하기\n",
    "    eng = input_word.split(',')[0]\n",
    "    kor = input_word.split(',')[1]\n",
    "    \n",
    "    # 키값과 밸류값 저장하기\n",
    "    dict_word[eng] = kor\n",
    "    \n",
    "# 출력하기\n",
    "dict_word"
   ]
  },
  {
   "cell_type": "markdown",
   "id": "14581e17",
   "metadata": {},
   "source": [
    "    문제 7\n",
    "    할인된 금액 계산 프로그램\n",
    "```\n",
    "\n",
    "    금액                     할인율\n",
    "    1만원이상 5만원미만        5%\n",
    "    5만원이상 10만원미만       7%\n",
    "    10만원이상                 10%\n",
    "\n",
    "```"
   ]
  },
  {
   "cell_type": "code",
   "execution_count": 3,
   "id": "06ee7ade",
   "metadata": {},
   "outputs": [
    {
     "name": "stdout",
     "output_type": "stream",
     "text": [
      "물건구매가 : 100000\n",
      "\n",
      "구매가 : 100000\n",
      "할인율 : 10%\n",
      "할인금액 : 10000.0\n",
      "지불금액 : 90000.0\n",
      "\n"
     ]
    }
   ],
   "source": [
    "price = int(input(\"물건구매가 : \"))\n",
    "\n",
    "#할인율 결정\n",
    "if price >= 100000 : \n",
    "    dc = 10\n",
    "elif price >= 50000 : \n",
    "    dc = 7\n",
    "elif price >= 10000 : \n",
    "    dc = 5\n",
    "else : \n",
    "    dc = 0\n",
    "    \n",
    "#출력\n",
    "print(f'''\n",
    "구매가 : {price}\n",
    "할인율 : {dc}%\n",
    "할인금액 : {price * (dc/100)}\n",
    "지불금액 : {price - price * (dc/100)}\n",
    "''')"
   ]
  },
  {
   "cell_type": "markdown",
   "id": "c2c3b0c7",
   "metadata": {},
   "source": [
    "    문제 8\n",
    "    사칙연산 프로그램\n",
    "    \n",
    "- 두 수와 사칙연사기호(+,-,*,/)을 입력받아 연산 기호에 따라 연산 결과를 출력하는\n",
    "    프로그램을 작성하시오\n",
    "- 사칙연산기호(+,-,*,/)가 아닌 경우 '잘못입력하셧습니다' 출력"
   ]
  },
  {
   "cell_type": "code",
   "execution_count": 5,
   "id": "dc95e6b9",
   "metadata": {},
   "outputs": [
    {
     "name": "stdout",
     "output_type": "stream",
     "text": [
      "숫자1 : 5\n",
      "숫자2 : 5\n",
      "연산기호 : 2\n",
      "잘못입력하셧습니다.\n"
     ]
    }
   ],
   "source": [
    "num1 = int(input('숫자1 : '))\n",
    "num2 = int(input('숫자2 : '))\n",
    "op = input('연산기호 : ')\n",
    "\n",
    "if op == '+':\n",
    "    print(f'덧셈 : {num1} + {num2} = {num1 + num2}')\n",
    "elif op == '-':\n",
    "    print(f'뺄셈 : {num1} - {num2} = {num1 - num2}')\n",
    "elif op == '*':\n",
    "    print(f'곱하기 : {num1} * {num2} = {num1 * num2}')\n",
    "elif op == '/':\n",
    "    print(f'나누기 : {num1} / {num2} = {num1/num2}')\n",
    "else :\n",
    "    print('잘못입력하셧습니다.')"
   ]
  },
  {
   "cell_type": "markdown",
   "id": "f1497927",
   "metadata": {},
   "source": [
    "    문제 9\n",
    "    up&down 숫자 맞추기 게임 프로그램\n",
    "    \n",
    "```\n",
    "1 ~ 100 사이의 정답 숫자를 랜덤으로 하나 정하고, 정답 숫자를 맞출 때까지 숫자를 입력하는 게임이다.\n",
    "\n",
    "내가 입력한 숫자가 정답보다 작으면 'DOWN', 정답보다 크면 'UP'을 출력하고 숫자를 다시 입력받는다.\n",
    "\n",
    "정답을 맞추면 '정답!' 이라고 출력하고 게임을 끝낸다.\n",
    "기회는 5번까지 주어진다.\n",
    "5회가 넘으면 '횟수초과' 메세지와 함께 정답을 알려줍니다.\n",
    "정답을 맞추면 몇번째에 맞추었는지 출력합니다.\n",
    "```\n",
    "- random 함수를 이용\n",
    "- 함수 만들어 봅니다."
   ]
  },
  {
   "cell_type": "code",
   "execution_count": 6,
   "id": "158e77f0",
   "metadata": {},
   "outputs": [
    {
     "name": "stdout",
     "output_type": "stream",
     "text": [
      "Attempts 1. 예상 숫자를 입력하세요(1~100) : 50\n",
      "DOWN\n",
      "Attempts 2. 예상 숫자를 입력하세요(1~100) : 40\n",
      "UP\n",
      "Attempts 3. 예상 숫자를 입력하세요(1~100) : 45\n",
      "DOWN\n",
      "Attempts 4. 예상 숫자를 입력하세요(1~100) : 43\n",
      "DOWN\n",
      "Attempts 5. 예상 숫자를 입력하세요(1~100) : 41\n",
      "정답입니다!\n",
      "5번 만에 맞추었습니다.\n"
     ]
    }
   ],
   "source": [
    "import random\n",
    "\n",
    "def guess_number_game(max_attempts=5):\n",
    "    cnt = 0\n",
    "    num = random.randint(1, 100)\n",
    "    \n",
    "    while cnt < max_attempts :\n",
    "        cnt += 1 \n",
    "        answer = int(input(f'Attempts {cnt}. 예상 숫자를 입력하세요(1~100) : '))\n",
    "        if answer == num : \n",
    "            print(f'정답입니다!')\n",
    "            print(f'{cnt}번 만에 맞추었습니다.')\n",
    "            return\n",
    "        \n",
    "        if answer < num :\n",
    "            print('UP')\n",
    "        else :\n",
    "            print('DOWN')\n",
    "            \n",
    "    print(f'횟수 초과입니다. 정답은 {num}였습니다.')\n",
    "    \n",
    "# 시작\n",
    "guess_number_game()"
   ]
  },
  {
   "cell_type": "markdown",
   "id": "d65a11c1",
   "metadata": {},
   "source": [
    "    문제 10\n",
    "    아이디/비밀번호 프로그램\n",
    "    \n",
    "```\n",
    "    올바른 아이디/비밀번호를 입력할 때까지 아이디와 비밀번호를\n",
    "    입력하는 프로그램 만들기\n",
    "    아이디가 잘못되었으면 '아이디를 확인하세요' 출력\n",
    "    비밀번호가 잘못되었으면 '비밀번호를 확인하세요' 출력\n",
    "```"
   ]
  },
  {
   "cell_type": "code",
   "execution_count": 8,
   "id": "3e1b6736",
   "metadata": {},
   "outputs": [
    {
     "name": "stdout",
     "output_type": "stream",
     "text": [
      "id : 123\n",
      "pwd : 23\n",
      "아이디를 확인하세요\n",
      "비밀번호를 확인하세요\n",
      "id : id123\n",
      "pwd : 23\n",
      "비밀번호를 확인하세요\n",
      "id : 23\n",
      "pwd : pwd123\n",
      "아이디를 확인하세요\n",
      "id : id123\n",
      "pwd : pwd123\n"
     ]
    }
   ],
   "source": [
    "# 주어진 아이디와 비밀번호\n",
    "id = 'id123'\n",
    "pwd = 'pwd123'\n",
    "\n",
    "while True : \n",
    "    input_id = input(\"id : \")\n",
    "    input_pwd = input(\"pwd : \")\n",
    "    \n",
    "    if id == input_id and pwd == input_pwd:\n",
    "        break\n",
    "    if id != input_id :\n",
    "        print('아이디를 확인하세요')\n",
    "    if pwd != input_pwd :\n",
    "        print('비밀번호를 확인하세요')\n",
    "        "
   ]
  },
  {
   "cell_type": "code",
   "execution_count": null,
   "id": "edabe47a",
   "metadata": {},
   "outputs": [],
   "source": []
  }
 ],
 "metadata": {
  "kernelspec": {
   "display_name": "Python 3 (ipykernel)",
   "language": "python",
   "name": "python3"
  },
  "language_info": {
   "codemirror_mode": {
    "name": "ipython",
    "version": 3
   },
   "file_extension": ".py",
   "mimetype": "text/x-python",
   "name": "python",
   "nbconvert_exporter": "python",
   "pygments_lexer": "ipython3",
   "version": "3.9.7"
  }
 },
 "nbformat": 4,
 "nbformat_minor": 5
}
