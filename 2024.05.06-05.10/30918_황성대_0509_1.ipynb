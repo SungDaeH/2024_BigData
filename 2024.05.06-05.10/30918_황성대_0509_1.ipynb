{
 "cells": [
  {
   "cell_type": "markdown",
   "id": "7e1bf740",
   "metadata": {},
   "source": [
    "# 30918_황성대_0509_1"
   ]
  },
  {
   "cell_type": "markdown",
   "id": "0f3c6554",
   "metadata": {},
   "source": [
    "예상 문제 1번\n",
    "\n",
    "영어단어장 만들기"
   ]
  },
  {
   "cell_type": "code",
   "execution_count": 2,
   "id": "a445b2ca",
   "metadata": {},
   "outputs": [
    {
     "name": "stdout",
     "output_type": "stream",
     "text": [
      "영어단어, 뜻 : banana,바나나\n",
      "영어단어, 뜻 : apple,사과\n",
      "영어단어, 뜻 : \n"
     ]
    },
    {
     "data": {
      "text/plain": [
       "{'banana': '바나나', 'apple': '사과'}"
      ]
     },
     "execution_count": 2,
     "metadata": {},
     "output_type": "execute_result"
    }
   ],
   "source": [
    "word = {}\n",
    "\n",
    "while True:\n",
    "    input_word = input(\"영어단어, 뜻 : \")\n",
    "    if input_word == '':\n",
    "        break\n",
    "    eng = input_word.split(',')[0]\n",
    "    kor = input_word.split(',')[1]\n",
    "    word[eng] = kor\n",
    "word"
   ]
  },
  {
   "cell_type": "markdown",
   "id": "97bdb811",
   "metadata": {},
   "source": [
    "예상 문제 2번\n",
    "\n",
    "할인된 금액 계산 프로그램\n",
    "\n",
    "    금액                     할인율\n",
    "    1만원이상 5만원미만        5%\n",
    "    5만원이상 10만원미만       7%\n",
    "    10만원이상                 10%"
   ]
  },
  {
   "cell_type": "code",
   "execution_count": 3,
   "id": "8e6e741a",
   "metadata": {},
   "outputs": [
    {
     "name": "stdout",
     "output_type": "stream",
     "text": [
      "가격 : 100000\n",
      "\n",
      "구매 가격 : 100000\n",
      "할인 : 10%\n",
      "할인가격 : 10000.0\n",
      "최종가격 : 90000.0\n",
      "\n"
     ]
    }
   ],
   "source": [
    "price = int(input(\"가격 : \"))\n",
    "\n",
    "if price >= 100000 :\n",
    "    dc = 10\n",
    "elif price >= 50000 :\n",
    "    dc = 7\n",
    "elif price >= 10000:\n",
    "    dc = 5\n",
    "else :\n",
    "    dc = 0\n",
    "    \n",
    "print(f'''\n",
    "구매 가격 : {price}\n",
    "할인 : {dc}%\n",
    "할인가격 : {price * (dc/100)}\n",
    "최종가격 : {price - price*(dc/100)}\n",
    "''')"
   ]
  },
  {
   "cell_type": "markdown",
   "id": "34a2ac05",
   "metadata": {},
   "source": [
    "예상 문제 3번\n",
    "\n",
    "사칙연산 프로그램\n",
    "- 두 수와 사칙연사기호(+,-,*,/)을 입력받아 연산 기호에 따라 연산 결과를 출력하는 프로그램을 작성하시오\n",
    "- 사칙연산기호(+,-,*,/)가 아닌 경우 '잘못입력하셧습니다' 출력"
   ]
  },
  {
   "cell_type": "code",
   "execution_count": 6,
   "id": "39d8c9e6",
   "metadata": {},
   "outputs": [
    {
     "name": "stdout",
     "output_type": "stream",
     "text": [
      "2\n",
      "5\n",
      "기호입력 : -\n",
      "2 - 5 = -3\n"
     ]
    }
   ],
   "source": [
    "num1 = int(input())\n",
    "num2 = int(input())\n",
    "op = input(\"기호입력 : \")\n",
    "\n",
    "if op == \"+\" :\n",
    "    print(f'{num1} + {num2} = {num1+num2}')\n",
    "elif op == \"-\":\n",
    "    print(f'{num1} - {num2} = {num1 - num2}')\n",
    "elif op == \"*\":\n",
    "    print(f'{num1} * {num2} = {num1 * num2}')\n",
    "elif op == \"/\":\n",
    "    print(f'{num1} / {num2} = {num1/num2}')\n",
    "else :\n",
    "    print(\"다시입력해주세요\")"
   ]
  },
  {
   "cell_type": "markdown",
   "id": "f03373ca",
   "metadata": {},
   "source": [
    "예상 문제 4번\n",
    "```\n",
    "up&down 숫자 맞추기 게임 프로그램\n",
    "1 ~ 100 사이의 정답 숫자를 랜덤으로 하나 정하고, 정답 숫자를 맞출 때까지 숫자를 입력하는 게임이다.\n",
    "\n",
    "내가 입력한 숫자가 정답보다 작으면 'DOWN', 정답보다 크면 'UP'을 출력하고 숫자를 다시 입력받는다.\n",
    "\n",
    "정답을 맞추면 '정답!' 이라고 출력하고 게임을 끝낸다.\n",
    "기회는 5번까지 주어진다.\n",
    "5회가 넘으면 '횟수초과' 메세지와 함께 정답을 알려줍니다.\n",
    "정답을 맞추면 몇번째에 맞추었는지 출력합니다.\n",
    "```"
   ]
  },
  {
   "cell_type": "code",
   "execution_count": 8,
   "id": "6d6fae56",
   "metadata": {},
   "outputs": [
    {
     "name": "stdout",
     "output_type": "stream",
     "text": [
      "예상 숫자를 입력하시오(1~100) : 50\n",
      "Up\n",
      "예상 숫자를 입력하시오(1~100) : 70\n",
      "Down\n",
      "예상 숫자를 입력하시오(1~100) : 60\n",
      "Down\n",
      "예상 숫자를 입력하시오(1~100) : 55\n",
      "Down\n",
      "예상 숫자를 입력하시오(1~100) : 53\n",
      "Down\n",
      "횟수 초과입니다. 정답은 51입니다.\n"
     ]
    }
   ],
   "source": [
    "import random\n",
    "def guess_random_game(max_attempts = 5):\n",
    "    cnt = 0\n",
    "    num = random.randint(1,100)\n",
    "    \n",
    "    while cnt < max_attempts :\n",
    "        cnt += 1\n",
    "        answer = int(input(\"예상 숫자를 입력하시오(1~100) : \"))\n",
    "        if answer == num :\n",
    "            print(\"정답\")\n",
    "            print(f\"{cnt}회 만에 맞추셧습니다.\")\n",
    "            return\n",
    "        if answer < num :\n",
    "            print(\"Up\")\n",
    "        else :\n",
    "            print(\"Down\")\n",
    "    print(f'횟수 초과입니다. 정답은 {num}입니다.')\n",
    "    \n",
    "guess_random_game()"
   ]
  },
  {
   "cell_type": "markdown",
   "id": "244ec0c1",
   "metadata": {},
   "source": [
    "예상 문제 5번\n",
    "\n",
    "아이디/비밀번호 프로그램\n",
    "```\n",
    "올바른 아이디/비밀번호를 입력할 때까지 아이디와 비밀번호를\n",
    "입력하는 프로그램 만들기\n",
    "아이디가 잘못되었으면 '아이디를 확인하세요' 출력\n",
    "비밀번호가 잘못되었으면 '비밀번호를 확인하세요' 출력\n",
    "```"
   ]
  },
  {
   "cell_type": "code",
   "execution_count": 18,
   "id": "0e630696",
   "metadata": {},
   "outputs": [
    {
     "name": "stdout",
     "output_type": "stream",
     "text": [
      "id를 입력하시오 :123\n",
      "pwd를 입력하시오 : 123\n",
      "id를 다시입력하시오\n",
      "pwd를 다시입력하시오\n",
      "id를 입력하시오 :id123\n",
      "pwd를 입력하시오 : 123\n",
      "pwd를 다시입력하시오\n",
      "id를 입력하시오 :pi\n",
      "pwd를 입력하시오 : pwd123\n",
      "id를 다시입력하시오\n",
      "id를 입력하시오 :id123\n",
      "pwd를 입력하시오 : pwd123\n"
     ]
    }
   ],
   "source": [
    "id = 'id123'\n",
    "pwd = 'pwd123'\n",
    "\n",
    "while True :\n",
    "    input_id = input('id를 입력하시오 :')\n",
    "    input_pwd = input('pwd를 입력하시오 : ')\n",
    "    \n",
    "    if input_id == id and input_pwd == pwd :\n",
    "        break\n",
    "    \n",
    "    if input_id != id :\n",
    "        print(\"id를 다시입력하시오\")\n",
    "        \n",
    "    if input_pwd != pwd :\n",
    "        print('pwd를 다시입력하시오')"
   ]
  },
  {
   "cell_type": "code",
   "execution_count": null,
   "id": "4129f44f",
   "metadata": {},
   "outputs": [],
   "source": []
  },
  {
   "cell_type": "code",
   "execution_count": null,
   "id": "9b11640b",
   "metadata": {},
   "outputs": [],
   "source": []
  }
 ],
 "metadata": {
  "kernelspec": {
   "display_name": "Python 3 (ipykernel)",
   "language": "python",
   "name": "python3"
  },
  "language_info": {
   "codemirror_mode": {
    "name": "ipython",
    "version": 3
   },
   "file_extension": ".py",
   "mimetype": "text/x-python",
   "name": "python",
   "nbconvert_exporter": "python",
   "pygments_lexer": "ipython3",
   "version": "3.9.7"
  }
 },
 "nbformat": 4,
 "nbformat_minor": 5
}
