{
 "cells": [
  {
   "cell_type": "markdown",
   "id": "29307e35",
   "metadata": {},
   "source": [
    "# 30918_황성대_0822_7"
   ]
  },
  {
   "cell_type": "markdown",
   "id": "c76bf7e8",
   "metadata": {},
   "source": [
    "# 1164 : 터널 통과하기 1\n",
    "어떤 차의 높이가 170cm 이다.\n",
    "\n",
    "이 차는 3개의 터널을 차례대로 지나게 될 것이다.\n",
    "\n",
    "터널의 높이가 차의 높이보다 같거나 낮다면 차는 터널과 충돌하여 사고가 날 것이다.\n",
    "\n",
    "터널의 높이가 차례대로 3개 주어지면 터널을 무사히 잘 통과하면 PASS 를 출력하고, 사고가 난다면 CRASH 를 출력하시오."
   ]
  },
  {
   "cell_type": "code",
   "execution_count": 3,
   "id": "674db71b",
   "metadata": {},
   "outputs": [
    {
     "name": "stdout",
     "output_type": "stream",
     "text": [
      "170 168 175\n",
      "CRASH\n"
     ]
    }
   ],
   "source": [
    "a,b,c = map(int, input().split())\n",
    "\n",
    "if a <= 170 :\n",
    "    print(\"CRASH\")\n",
    "elif b <= 170:\n",
    "    print(\"CRASH\")\n",
    "elif c <= 170:\n",
    "    print(\"CRASH\")\n",
    "else :\n",
    "    print(\"PASS\")"
   ]
  },
  {
   "cell_type": "markdown",
   "id": "70ecd163",
   "metadata": {},
   "source": [
    "# 1165 : 축구의 신 1\n",
    "지금 1반과 2반이 축구를 하고있다.\n",
    "\n",
    "축구경기 타임은 총 90분이고,\n",
    "\n",
    "현재 1반이 0점, 2반이 2점인 상황에서, 1반은 경남정보고 최고의 스트라이커인 성익이를 투입하기로 결정했다.\n",
    "\n",
    "성익이는 5분마다 골을 넣을 수 있는 능력을 가지고 있다.\n",
    "\n",
    "만약 80분에 투입이 되면 80분에 곧바로 골을 넣게되고 85분에 골을 넣음으로서 동점이 가능하게 된다.\n",
    "\n",
    "(90분이되면 경기가 바로 종료되므로 골을 넣을 수 없다. 동내심판인 성빈이는 성익이가 잘 되는 것을 싫어하기 때문에 추가시간 따위는 주지 않는다. )\n",
    "\n",
    "현재 경기타임과 우리팀의 득점이 입력으로 주어 질때, 성익이를 투입하면 우리팀의 최종 득점은 몇 점인지 출력하시오."
   ]
  },
  {
   "cell_type": "code",
   "execution_count": 7,
   "id": "1a054c7e",
   "metadata": {},
   "outputs": [
    {
     "name": "stdout",
     "output_type": "stream",
     "text": [
      "74 2\n",
      "6\n"
     ]
    }
   ],
   "source": [
    "a, b = map(int, input().split())\n",
    "\n",
    "while a < 90 : \n",
    "    b += 1\n",
    "    a += 5\n",
    "print(b)"
   ]
  },
  {
   "cell_type": "markdown",
   "id": "a2e9a685",
   "metadata": {},
   "source": [
    "# 1166 : 윤년 판별\n",
    "2월이 29일까지 있는 해를 윤년이라고 한다.\n",
    "\n",
    "한 자연수를 입력받아서 윤년인지 아닌지를 판단하는 프로그램을 작성하시오.\n",
    "\n",
    "단, 윤년은 다음 두 조건 중 하나만 만족하면 된다.\n",
    "\n",
    "\n",
    "(1) 400의 배수이면 무조건 윤년이다.\n",
    "(2) 4의 배수이며, 100의 배수가 아니면 윤년이다.\n",
    "\n",
    " \n",
    "\n",
    "예)\n",
    "\n",
    "2000 년 ====> 윤년 (1번 조건) \n",
    "\n",
    "2004 년 ====>  윤년(2번 조건)\n",
    "\n",
    "1900 년 ====> 윤년 아님\n",
    "\n",
    "1999 년 ====> 윤년 아님"
   ]
  },
  {
   "cell_type": "code",
   "execution_count": 17,
   "id": "aaa1e288",
   "metadata": {},
   "outputs": [
    {
     "name": "stdout",
     "output_type": "stream",
     "text": [
      "2012\n",
      "Leap\n"
     ]
    }
   ],
   "source": [
    "n = int(input())\n",
    "\n",
    "if n % 4 == 0 and n % 100 != 0 or n % 400 == 0:\n",
    "    print(\"Leap\")\n",
    "else:\n",
    "    print(\"Normal\")"
   ]
  },
  {
   "cell_type": "markdown",
   "id": "266f288a",
   "metadata": {},
   "source": [
    "# 1167 : 두 번째 수\n",
    "\n",
    "세 개의 숫자가 주어질 때 작은 순서로 나열 했을 때, 두번째 수를 출력해보자.\n",
    "\n",
    "예를 들어, 5 9 2 가 있다면, 작은 순서로 나열하면 2 5 9이고 두번째 수는 5이다.\n",
    "\n",
    " "
   ]
  },
  {
   "cell_type": "code",
   "execution_count": 31,
   "id": "f73d94e7",
   "metadata": {},
   "outputs": [
    {
     "name": "stdout",
     "output_type": "stream",
     "text": [
      "12 3 3\n",
      "3\n"
     ]
    }
   ],
   "source": [
    "a,b,c = map(int, input().split())\n",
    "\n",
    "if a >= b >= c <= a or a <= b <= c >= a:\n",
    "    print(b)\n",
    "elif a >= b <= c <= a or a <= b >= c >= a :\n",
    "    print(c)\n",
    "else : \n",
    "    print(a)"
   ]
  },
  {
   "cell_type": "code",
   "execution_count": null,
   "id": "66e2e246",
   "metadata": {},
   "outputs": [],
   "source": []
  }
 ],
 "metadata": {
  "kernelspec": {
   "display_name": "Python 3 (ipykernel)",
   "language": "python",
   "name": "python3"
  },
  "language_info": {
   "codemirror_mode": {
    "name": "ipython",
    "version": 3
   },
   "file_extension": ".py",
   "mimetype": "text/x-python",
   "name": "python",
   "nbconvert_exporter": "python",
   "pygments_lexer": "ipython3",
   "version": "3.9.7"
  }
 },
 "nbformat": 4,
 "nbformat_minor": 5
}
