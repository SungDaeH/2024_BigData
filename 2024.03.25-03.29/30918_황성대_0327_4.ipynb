{
  "nbformat": 4,
  "nbformat_minor": 0,
  "metadata": {
    "colab": {
      "provenance": []
    },
    "kernelspec": {
      "name": "python3",
      "display_name": "Python 3"
    },
    "language_info": {
      "name": "python"
    }
  },
  "cells": [
    {
      "cell_type": "markdown",
      "source": [
        "# 30918_황성대_0327"
      ],
      "metadata": {
        "id": "4o8GTLIl6Zpf"
      }
    },
    {
      "cell_type": "code",
      "source": [
        "print(\"학생 그룹 정수의 합계와 평균을 구합니다.\")\n",
        "s1 = int(input(\"1번 학생의 정수를 입력하세요 : \"))\n",
        "s2 = int(input(\"2번 학생의 정수를 입력하세요 : \"))\n",
        "s3 = int(input(\"3번 학생의 정수를 입력하세요 : \"))\n",
        "s4 = int(input(\"4번 학생의 정수를 입력하세요 : \"))\n",
        "s5 = int(input(\"5번 학생의 정수를 입력하세요 : \"))\n",
        "\n",
        "sum = s1+s2+s3+s4+s5\n",
        "\n",
        "avg = sum / 5\n",
        "\n",
        "print(f'합계는 {sum}점입니다.')\n",
        "print(f'평균은 {avg}점입니다.')"
      ],
      "metadata": {
        "id": "pzgMneUd6bjK"
      },
      "execution_count": null,
      "outputs": []
    },
    {
      "cell_type": "markdown",
      "source": [
        "![image.png](data:image/png;base64,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)"
      ],
      "metadata": {
        "id": "ni_5KWzX6ivQ"
      }
    },
    {
      "cell_type": "markdown",
      "source": [
        "```\n",
        "Ctrl + M A = 코드 셀 위에 삽입\n",
        "Ctrl + M B = 코드 셀 아리에 삽입\n",
        "Ctrl + M D = 셀 지우기\n",
        "Ctrl + M Y = 코드 셀로 변경\n",
        "Ctrl + M M = 마크다운 셀로 변경\n",
        "Ctrl + M Z = 실행 취소\n",
        "```"
      ],
      "metadata": {
        "id": "em0TLYNU70fs"
      }
    },
    {
      "cell_type": "code",
      "source": [
        "from re import S\n",
        "print(\"학생 그룹 정수의 합계와 평균을 구합니다.\")\n",
        "s1 = int(input(\"1번 학생의 정수를 입력하세요 : \"))\n",
        "s2 = int(input(\"2번 학생의 정수를 입력하세요 : \"))\n",
        "s3 = int(input(\"3번 학생의 정수를 입력하세요 : \"))\n",
        "s4 = int(input(\"4번 학생의 정수를 입력하세요 : \"))\n",
        "s5 = int(input(\"5번 학생의 정수를 입력하세요 : \"))\n",
        "\n",
        "total = 0\n",
        "total += s1\n",
        "total += s2\n",
        "total += s3\n",
        "total += s4\n",
        "total += s5\n",
        "\n",
        "print(f'합계는 {total}점입니다.')\n",
        "print(f'평균은 {total / 5 }점입니다.')"
      ],
      "metadata": {
        "colab": {
          "base_uri": "https://localhost:8080/"
        },
        "id": "ll4kfAt370sC",
        "outputId": "84693269-7f0d-4ea2-a41b-4f932d871658"
      },
      "execution_count": 4,
      "outputs": [
        {
          "output_type": "stream",
          "name": "stdout",
          "text": [
            "학생 그룹 정수의 합계와 평균을 구합니다.\n",
            "1번 학생의 정수를 입력하세요 : 32\n",
            "2번 학생의 정수를 입력하세요 : 53\n",
            "3번 학생의 정수를 입력하세요 : 54\n",
            "4번 학생의 정수를 입력하세요 : 7\n",
            "5번 학생의 정수를 입력하세요 : 67\n",
            "합계는 213점입니다.\n",
            "평균은 42.6점입니다.\n"
          ]
        }
      ]
    },
    {
      "cell_type": "markdown",
      "source": [
        "- 배열 : 묶음 단위로 값을 저장하는 자료구죠\n",
        "  - 원소 : 배열에 저장된 각 개체\n",
        "  - 각 원소는 0,1,-------- 순서대로 인덱스(주소)를 부여받음\n",
        "  - 원소의 자료형은 int형 float형 어떤것도 상관없음\n",
        "  - 서로 다른 자료형을 같이 저장할 수 있음\n",
        "  - 배열 원소 자체를 배열에 저장할 수 있음"
      ],
      "metadata": {
        "id": "H6YeEbIz71Ef"
      }
    },
    {
      "cell_type": "code",
      "execution_count": 6,
      "metadata": {
        "colab": {
          "base_uri": "https://localhost:8080/"
        },
        "id": "xeo2-RE86a_H",
        "outputId": "a5eb79df-4b9e-4614-a475-772300b238a3"
      },
      "outputs": [
        {
          "output_type": "stream",
          "name": "stdout",
          "text": [
            "[1, 2, 3, 4, 5]\n",
            "['A', 'B', 'C']\n"
          ]
        }
      ],
      "source": [
        "# list 선언\n",
        "list01 = [] # 빈 리스트\n",
        "a = [1,2,3,4,5]\n",
        "b = [\"A\",\"B\",\"C\",]\n",
        "\n",
        "print(a)\n",
        "print(b)"
      ]
    },
    {
      "cell_type": "markdown",
      "source": [
        "- 튜플\n",
        "  - 원소의 순서를 매겨 결합한 것으로 원소를 변경할 수 없는 자료형\n",
        "  - ()만 사용하면 빈 튜플"
      ],
      "metadata": {
        "id": "P_ueeWc06abh"
      }
    },
    {
      "cell_type": "code",
      "source": [
        "tuple01 = ()\n",
        "tuple02 = 1,2,3\n",
        "tuple03 = \"A\",\"B\",\"C\"\n",
        "\n",
        "print(tuple01)\n",
        "print(tuple02)\n",
        "print(tuple03)"
      ],
      "metadata": {
        "colab": {
          "base_uri": "https://localhost:8080/"
        },
        "id": "4cSkBWZ0_HZB",
        "outputId": "ab8a317f-4fd9-461d-dcf7-9e8666143ada"
      },
      "execution_count": 7,
      "outputs": [
        {
          "output_type": "stream",
          "name": "stdout",
          "text": [
            "()\n",
            "(1, 2, 3)\n",
            "('A', 'B', 'C')\n"
          ]
        }
      ]
    },
    {
      "cell_type": "code",
      "source": [
        "a = tuple(range(3,13,2))\n",
        "print(a)"
      ],
      "metadata": {
        "colab": {
          "base_uri": "https://localhost:8080/"
        },
        "id": "_khxGp_b_gXe",
        "outputId": "b119ec42-3af6-415b-972e-cdce228918e5"
      },
      "execution_count": 11,
      "outputs": [
        {
          "output_type": "stream",
          "name": "stdout",
          "text": [
            "(3, 5, 7, 9, 11)\n"
          ]
        }
      ]
    },
    {
      "cell_type": "code",
      "source": [],
      "metadata": {
        "id": "E9-Habiy_ux4"
      },
      "execution_count": null,
      "outputs": []
    }
  ]
}