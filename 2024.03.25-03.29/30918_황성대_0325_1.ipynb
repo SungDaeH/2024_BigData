{
 "cells": [
  {
   "cell_type": "markdown",
   "id": "02baf74e",
   "metadata": {},
   "source": [
    "# 30918_황성대_0325_1"
   ]
  },
  {
   "cell_type": "code",
   "execution_count": 10,
   "id": "bd511187",
   "metadata": {},
   "outputs": [
    {
     "name": "stdout",
     "output_type": "stream",
     "text": [
      "1부터 n까지 정수의 합을 구합니다.\n",
      "n값을 입력해주세요 : 10\n",
      "1부터 10까지 정수의 합은 55입니다.\n"
     ]
    }
   ],
   "source": [
    "print(\"1부터 n까지 정수의 합을 구합니다.\")\n",
    "\n",
    "sum = 0\n",
    "i = 1\n",
    "\n",
    "# n값이 0보다 크면 빠져나간다.\n",
    "while True :\n",
    "    n = int(input(\"n값을 입력해주세요 : \"))\n",
    "    if n > 0 :\n",
    "        break\n",
    "\n",
    "for i in range(n+1):\n",
    "    sum += i\n",
    "    i += 1\n",
    "\n",
    "print(f'1부터 {n}까지 정수의 합은 {sum}입니다.')"
   ]
  },
  {
   "cell_type": "markdown",
   "id": "98350b79",
   "metadata": {},
   "source": [
    "# - 변의 길이와 넓이가 모두 정수인 직사각형에서 변의 길이를 구하는 프로그램\n",
    "# - 짧은 변과 긴 변의 기리는 구별하지 않음\n",
    "\n",
    "   ## - 예) 직사각형의 넓이가 32이면 변의 길이를 1 x 32, 2 x 16, 4 x 8만 출력"
   ]
  },
  {
   "cell_type": "code",
   "execution_count": 17,
   "id": "f6ce1603",
   "metadata": {},
   "outputs": [
    {
     "name": "stdout",
     "output_type": "stream",
     "text": [
      "직사각형의 넓이를 입력하세요. : 1000000\n",
      "1 x 1000000\n",
      "2 x 500000\n",
      "4 x 250000\n",
      "5 x 200000\n",
      "8 x 125000\n",
      "10 x 100000\n",
      "16 x 62500\n",
      "20 x 50000\n",
      "25 x 40000\n",
      "32 x 31250\n",
      "40 x 25000\n",
      "50 x 20000\n",
      "64 x 15625\n",
      "80 x 12500\n",
      "100 x 10000\n",
      "125 x 8000\n",
      "160 x 6250\n",
      "200 x 5000\n",
      "250 x 4000\n",
      "320 x 3125\n",
      "400 x 2500\n",
      "500 x 2000\n",
      "625 x 1600\n",
      "800 x 1250\n",
      "1000 x 1000\n"
     ]
    }
   ],
   "source": [
    "# 가로, 세로 길이가 정수이고, 넓이가 area인 직사각형에서 변의 길이 나열하기\n",
    "\n",
    "area = int(input(\"직사각형의 넓이를 입력하세요. : \"))\n",
    "\n",
    "for i in range(1, area+1):\n",
    "    if i * i > area : break\n",
    "    if area % i : continue\n",
    "    print(f'{i} x {area // i}')"
   ]
  },
  {
   "cell_type": "code",
   "execution_count": null,
   "id": "fe86f120",
   "metadata": {},
   "outputs": [],
   "source": []
  },
  {
   "cell_type": "code",
   "execution_count": null,
   "id": "a1272735",
   "metadata": {},
   "outputs": [],
   "source": []
  }
 ],
 "metadata": {
  "kernelspec": {
   "display_name": "Python 3 (ipykernel)",
   "language": "python",
   "name": "python3"
  },
  "language_info": {
   "codemirror_mode": {
    "name": "ipython",
    "version": 3
   },
   "file_extension": ".py",
   "mimetype": "text/x-python",
   "name": "python",
   "nbconvert_exporter": "python",
   "pygments_lexer": "ipython3",
   "version": "3.9.7"
  }
 },
 "nbformat": 4,
 "nbformat_minor": 5
}
