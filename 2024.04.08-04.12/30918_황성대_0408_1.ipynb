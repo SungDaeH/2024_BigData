{
 "cells": [
  {
   "cell_type": "markdown",
   "id": "f6b6993a",
   "metadata": {},
   "source": [
    "# 30918_황성대_0408_1"
   ]
  },
  {
   "cell_type": "markdown",
   "id": "82c4df2a",
   "metadata": {},
   "source": [
    "## 선택구조 조건이 하나 일때\n",
    "- if문"
   ]
  },
  {
   "cell_type": "code",
   "execution_count": 4,
   "id": "9708fd8f",
   "metadata": {},
   "outputs": [
    {
     "name": "stdout",
     "output_type": "stream",
     "text": [
      "청소년은 주류를 구매할 수 없습니다.\n"
     ]
    }
   ],
   "source": [
    "age = 19\n",
    "\n",
    "# 청소년은 주류를 구매할 수 없습니다. 출력\n",
    "\n",
    "if age < 20 :\n",
    "    print(\"청소년은 주류를 구매할 수 없습니다.\")"
   ]
  },
  {
   "cell_type": "code",
   "execution_count": 12,
   "id": "8a141a0c",
   "metadata": {},
   "outputs": [
    {
     "name": "stdout",
     "output_type": "stream",
     "text": [
      "나이가 어떻게 되셔요? : 20\n",
      "성인은 주류를 구매할 수 있습니다.\n",
      "주류를 선택하시오 : 1\n",
      "소주를 선택했습니다.\n"
     ]
    }
   ],
   "source": [
    "age = int(input(\"나이가 어떻게 되셔요? : \"))\n",
    "bill = ['맥주','소주','하이볼']\n",
    "if age < 20 :\n",
    "    print(\"청소년은 주류를 구매할 수 없습니다.\")\n",
    "else :\n",
    "    print(f'성인은 주류를 구매할 수 있습니다.')\n",
    "    c = int(input(\"주류를 선택하시오 : \"))\n",
    "    print(f'{bill[c]}를 선택했습니다.')"
   ]
  },
  {
   "cell_type": "code",
   "execution_count": 11,
   "id": "1eab297e",
   "metadata": {},
   "outputs": [
    {
     "name": "stdout",
     "output_type": "stream",
     "text": [
      "나이가 어떻게 되셔요? : 19\n",
      "청소년은 주류를 구매할 수 없습니다. 1년후에 와주세요\n"
     ]
    }
   ],
   "source": [
    "age = int(input(\"나이가 어떻게 되셔요? : \"))\n",
    "y = 20 - age\n",
    "if age < 20 :\n",
    "    print(f\"청소년은 주류를 구매할 수 없습니다. {y}년후에 와주세요\")\n",
    "else :\n",
    "    print(f'성인은 주류를 구매할 수 있습니다.')"
   ]
  },
  {
   "cell_type": "markdown",
   "id": "306b9391",
   "metadata": {},
   "source": [
    "# 5만원 이하면 배송비 2500원이 추가 됩니다.\n",
    "\n"
   ]
  },
  {
   "cell_type": "code",
   "execution_count": 22,
   "id": "ff748d57",
   "metadata": {},
   "outputs": [
    {
     "name": "stdout",
     "output_type": "stream",
     "text": [
      "금액을 입력해주세요 : 50000\n",
      "배송비는 무료입니다.\n",
      "최종 결제 금액은 50000원 입니다.\n"
     ]
    }
   ],
   "source": [
    "price = int(input(\"금액을 입력해주세요 : \"))\n",
    "\n",
    "if price < 50000 :\n",
    "    print(f\"배송비가 2500원 추가 됩니다. 최종 결제 금액은 {price + 2500}원 입니다.\")\n",
    "else :\n",
    "    print(\"배송비는 무료입니다.\")\n",
    "    print(f'최종 결제 금액은 {price}원 입니다.')"
   ]
  },
  {
   "cell_type": "code",
   "execution_count": 23,
   "id": "cb7d0f46",
   "metadata": {},
   "outputs": [
    {
     "name": "stdout",
     "output_type": "stream",
     "text": [
      "오늘의 날짜를 입력하시오 : 8\n",
      "짝수 차량은 주차 가능합니다\n",
      "홀수 차량은 다음에 주차하세요\n"
     ]
    }
   ],
   "source": [
    "# 차량 이부제\n",
    "date = int(input(\"오늘의 날짜를 입력하시오 : \"))\n",
    "\n",
    "if date% 2 == 0 :\n",
    "    print(f\"짝수 차량은 주차 가능합니다\")\n",
    "    print(f'홀수 차량은 다음에 주차하세요')\n",
    "else :\n",
    "    print(f\"홀수 차량은 주차 가능합니다\")\n",
    "    print(f'짝수 차량은 다음에 주차하세요')"
   ]
  },
  {
   "cell_type": "code",
   "execution_count": null,
   "id": "267065eb",
   "metadata": {},
   "outputs": [],
   "source": []
  }
 ],
 "metadata": {
  "kernelspec": {
   "display_name": "Python 3 (ipykernel)",
   "language": "python",
   "name": "python3"
  },
  "language_info": {
   "codemirror_mode": {
    "name": "ipython",
    "version": 3
   },
   "file_extension": ".py",
   "mimetype": "text/x-python",
   "name": "python",
   "nbconvert_exporter": "python",
   "pygments_lexer": "ipython3",
   "version": "3.9.7"
  }
 },
 "nbformat": 4,
 "nbformat_minor": 5
}
