{
 "cells": [
  {
   "cell_type": "markdown",
   "id": "7d06d07e",
   "metadata": {},
   "source": [
    "# 30918_황성대_0528_4"
   ]
  },
  {
   "cell_type": "markdown",
   "id": "b8ede2b0",
   "metadata": {},
   "source": [
    "# 1160 : 아르바이트 가는 날\n",
    "\n",
    "주원이는 월, 수, 금, 일 아르바이트를 간다.\n",
    "\n",
    "다음은 요일의 순서이다.\n",
    "```\n",
    "1. 월요일\n",
    "2. 화요일\n",
    "3. 수요일\n",
    "4. 목요일\n",
    "5. 금요일\n",
    "6. 토요일\n",
    "7. 일요일\n",
    "```\n",
    "요일의 번호가 입력으로 주어지면 그 날이 아르바이트 가는 날이면 \"oh my god\"를 가는 날이 아니면 \"enjoy\"를 출력하시오."
   ]
  },
  {
   "cell_type": "code",
   "execution_count": 4,
   "id": "99af0e96",
   "metadata": {},
   "outputs": [
    {
     "name": "stdout",
     "output_type": "stream",
     "text": [
      "2\n",
      "enjoy\n"
     ]
    }
   ],
   "source": [
    "week = int(input())\n",
    "\n",
    "if week == 1 or week == 3 or week == 5 or week == 7:\n",
    "    print('oh my god')\n",
    "elif week == 2 or week == 4 or week == 6 :\n",
    "    print('enjoy')\n",
    "else :\n",
    "    print('error')"
   ]
  },
  {
   "cell_type": "markdown",
   "id": "a5ff0805",
   "metadata": {},
   "source": [
    "# 1161 : 홀수와 짝수 그리고 더하기\n",
    "정수 두개가 입력으로 들어온다.\n",
    "\n",
    "만약 첫번째 정수가 홀수이면 \"홀수\"를 출력하고, 짝수이면 \"짝수\"를 출력한 후  \"+\"를 출력한다.\n",
    "\n",
    "그리고 두번째 정수가 홀수이면 \"홀수\"를 출력하고, 짝수이면 \"짝수\"를 출력한 후  \"=\"을 출력하고 결과로 나오는 값이 홀수인지 짝수인지 출력한다.\n",
    "\n",
    " \n",
    "\n",
    "예를들어,\n",
    "\n",
    "5 7 이 입력되면 \"홀수+홀수=짝수\"가 출력된다.\n",
    "\n",
    "5 6 이 입력되면 \"홀수+짝수=홀수\"가 출력된다."
   ]
  },
  {
   "cell_type": "code",
   "execution_count": 11,
   "id": "4f9f05af",
   "metadata": {},
   "outputs": [
    {
     "name": "stdout",
     "output_type": "stream",
     "text": [
      "2 3\n",
      "짝수+홀수=홀수\n"
     ]
    }
   ],
   "source": [
    "a, b = map(int, input().split())\n",
    "\n",
    "c = a + b\n",
    "\n",
    "if a % 2 == 0 :\n",
    "    a = \"짝수\"\n",
    "else :\n",
    "    a = \"홀수\"\n",
    "if b % 2 == 0 :\n",
    "    b = \"짝수\"\n",
    "else :\n",
    "    b = \"홀수\"\n",
    "if c % 2 == 0 :\n",
    "    c = \"짝수\"\n",
    "else :\n",
    "    c = \"홀수\"\n",
    "print(a+\"+\"+b+\"=\"+c)"
   ]
  },
  {
   "cell_type": "markdown",
   "id": "d9af7f69",
   "metadata": {},
   "source": [
    "# 1162 : 당신의 사주를 봐 드립니다 1\n",
    "태어난 해, 월, 일을 입력받아 사주팔자를 보는 프로그램을 작성하시오.\n",
    "\n",
    "사주를 보는 방법)\n",
    "\n",
    "세 수(년,월,일)가 주어지면,  (년 - 월 + 일)에 마지막 숫자가 0이면 \"대박\"을 출력, 그렇지 않으면 \"그럭저럭\"을 출력하세요."
   ]
  },
  {
   "cell_type": "code",
   "execution_count": 21,
   "id": "c51d04be",
   "metadata": {},
   "outputs": [
    {
     "name": "stdout",
     "output_type": "stream",
     "text": [
      "1092 2 10\n",
      "대박\n"
     ]
    }
   ],
   "source": [
    "year, month, day = map(int, input().split())\n",
    "total = (year - month + day) % 10\n",
    "\n",
    "if total == 0 :\n",
    "    print('대박')\n",
    "else :\n",
    "    print('그럭저럭')"
   ]
  },
  {
   "cell_type": "markdown",
   "id": "46a67b2f",
   "metadata": {},
   "source": [
    "# 1163 : 당신의 사주를 봐 드립니다 2\n",
    "태어난 해, 월, 일을 입력받아 사주팔자를 보는 프로그램을 작성하시오.\n",
    "\n",
    "사주를 보는 방법)\n",
    "\n",
    "세 수(년,월,일)가 주어지면,  (년 + 월 + 일)에 100의 자리 숫자가 짝수이면 \"대박\"을 출력, 그렇지 않으면 \"그럭저럭\"을 출력하세요."
   ]
  },
  {
   "cell_type": "code",
   "execution_count": 26,
   "id": "f6b5de00",
   "metadata": {},
   "outputs": [
    {
     "name": "stdout",
     "output_type": "stream",
     "text": [
      "1402 2 10\n",
      "대박\n"
     ]
    }
   ],
   "source": [
    "year, month, day = map(int, input().split())\n",
    "total = (year + month + day) % 1000\n",
    "total2 = total - (total % 100)\n",
    "total2 = total2 / 100\n",
    "\n",
    "if total2 % 2== 0 :\n",
    "    print('대박')\n",
    "else :\n",
    "    print('그럭저럭')"
   ]
  },
  {
   "cell_type": "code",
   "execution_count": null,
   "id": "a3a70231",
   "metadata": {},
   "outputs": [],
   "source": []
  }
 ],
 "metadata": {
  "kernelspec": {
   "display_name": "Python 3 (ipykernel)",
   "language": "python",
   "name": "python3"
  },
  "language_info": {
   "codemirror_mode": {
    "name": "ipython",
    "version": 3
   },
   "file_extension": ".py",
   "mimetype": "text/x-python",
   "name": "python",
   "nbconvert_exporter": "python",
   "pygments_lexer": "ipython3",
   "version": "3.9.7"
  }
 },
 "nbformat": 4,
 "nbformat_minor": 5
}
