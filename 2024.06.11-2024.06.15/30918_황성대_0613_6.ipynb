{
 "cells": [
  {
   "cell_type": "markdown",
   "id": "18b2352c",
   "metadata": {},
   "source": [
    "# 30918_황성대_0613_6"
   ]
  },
  {
   "cell_type": "code",
   "execution_count": 1,
   "id": "6ad2b40d",
   "metadata": {},
   "outputs": [
    {
     "data": {
      "image/png": "[encoded data removed]",
      "text/plain": [
       "<Figure size 432x288 with 1 Axes>"
      ]
     },
     "metadata": {
      "needs_background": "light"
     },
     "output_type": "display_data"
    }
   ],
   "source": [
    "# 라이브러리 불러오기 및 병명 지정하기\n",
    "import matplotlib.pyplot as plt\n",
    "#한글폰트 적용하기\n",
    "plt.rc(\"font\", family = \"Malgun Gothic\")\n",
    "\n",
    "# data\n",
    "sales = [1,5,7,3,7]\n",
    "month = [3,4,5,6,7]\n",
    "\n",
    "# 막대 그래프 그리기 plt.bar()\n",
    "plt.title(\"월별 판매 실적\") # 제목\n",
    "plt.bar(month, sales, color='b') # 컬러 파란색\n",
    "\n",
    "plt.show()"
   ]
  },
  {
   "cell_type": "code",
   "execution_count": 6,
   "id": "3a563f73",
   "metadata": {},
   "outputs": [
    {
     "data": {
      "image/png": "[encoded data removed]",
      "text/plain": [
       "<Figure size 432x288 with 1 Axes>"
      ]
     },
     "metadata": {
      "needs_background": "light"
     },
     "output_type": "display_data"
    }
   ],
   "source": [
    "#라이브러리 불러오기 및 별명 지정하기\n",
    "import matplotlib.pyplot as plt\n",
    "#한글폰트 적용하기\n",
    "plt.rc('font', family = 'Malgun Gothic')\n",
    "\n",
    "# data \n",
    "sales = [1,5,7,3,7]\n",
    "month = [3,4,5,6,7]\n",
    "\n",
    "# 제목\n",
    "plt.title(\"월별 판매 실적\")\n",
    "\n",
    "# 가로 바차트 그리기 barh\n",
    "plt.barh(range(3, 8), sales, color='r') # 빨간색\n",
    "\n",
    "plt.show()"
   ]
  },
  {
   "cell_type": "markdown",
   "id": "9e965b0a",
   "metadata": {},
   "source": [
    "## 히스토그램 그리기"
   ]
  },
  {
   "cell_type": "code",
   "execution_count": 9,
   "id": "985a8621",
   "metadata": {},
   "outputs": [
    {
     "data": {
      "image/png": "[encoded data removed]",
      "text/plain": [
       "<Figure size 432x288 with 1 Axes>"
      ]
     },
     "metadata": {
      "needs_background": "light"
     },
     "output_type": "display_data"
    }
   ],
   "source": [
    "sales = [1,5,7,3,7] # 빈도수\n",
    "\n",
    "plt.hist(sales)\n",
    "plt.show()"
   ]
  },
  {
   "cell_type": "code",
   "execution_count": 35,
   "id": "c2514628",
   "metadata": {},
   "outputs": [
    {
     "name": "stdout",
     "output_type": "stream",
     "text": [
      "[97, 84, 68, 5, 23, 84, 43, 64, 66, 77]\n"
     ]
    },
    {
     "data": {
      "image/png": "[encoded data removed]",
      "text/plain": [
       "<Figure size 432x288 with 1 Axes>"
      ]
     },
     "metadata": {
      "needs_background": "light"
     },
     "output_type": "display_data"
    }
   ],
   "source": [
    "import matplotlib.pyplot as plt\n",
    "import random\n",
    "\n",
    "a=[]\n",
    "for i in range(10):\n",
    "    a.append(random.randint(1,100))\n",
    "\n",
    "print(a)\n",
    "\n",
    "plt.hist(a)\n",
    "plt.show()"
   ]
  },
  {
   "cell_type": "code",
   "execution_count": null,
   "id": "e4ca9440",
   "metadata": {},
   "outputs": [],
   "source": []
  },
  {
   "cell_type": "code",
   "execution_count": null,
   "id": "78a5daef",
   "metadata": {},
   "outputs": [],
   "source": []
  }
 ],
 "metadata": {
  "kernelspec": {
   "display_name": "Python 3 (ipykernel)",
   "language": "python",
   "name": "python3"
  },
  "language_info": {
   "codemirror_mode": {
    "name": "ipython",
    "version": 3
   },
   "file_extension": ".py",
   "mimetype": "text/x-python",
   "name": "python",
   "nbconvert_exporter": "python",
   "pygments_lexer": "ipython3",
   "version": "3.9.7"
  }
 },
 "nbformat": 4,
 "nbformat_minor": 5
}
