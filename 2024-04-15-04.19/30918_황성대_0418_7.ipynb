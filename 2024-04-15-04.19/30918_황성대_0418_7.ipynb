{
 "cells": [
  {
   "cell_type": "markdown",
   "id": "de4c6ad1",
   "metadata": {},
   "source": [
    "# 30918_황성대_0418_7"
   ]
  },
  {
   "cell_type": "markdown",
   "id": "66bbce09",
   "metadata": {},
   "source": [
    "## 예비문제 1번 : 1부터 1000까지 숫자 중에서 2의 배수이거나 3의 배수면 더 하는 프로그램"
   ]
  },
  {
   "cell_type": "code",
   "execution_count": 3,
   "id": "e2ef1ff7",
   "metadata": {},
   "outputs": [
    {
     "name": "stdout",
     "output_type": "stream",
     "text": [
      "1부터 1000까지 숫자 중에서 2의 배수이거나 3의 배수면 더하는 프로그램\n",
      "334167\n"
     ]
    }
   ],
   "source": [
    "print(\"1부터 1000까지 숫자 중에서 2의 배수이거나 3의 배수면 더하는 프로그램\")\n",
    "\n",
    "num = 1\n",
    "res = 0\n",
    "\n",
    "while num <= 1000:\n",
    "    if num % 2 == 0 or num % 3 == 0 :\n",
    "        res += num\n",
    "    num += 1\n",
    "    \n",
    "print(f\"{res}\")"
   ]
  },
  {
   "cell_type": "code",
   "execution_count": 5,
   "id": "4a0691eb",
   "metadata": {},
   "outputs": [
    {
     "name": "stdout",
     "output_type": "stream",
     "text": [
      "1부터 1000까지 숫자 중에서 2의 배수이거나 3의 배수면 더하는 프로그램\n",
      "334167\n"
     ]
    }
   ],
   "source": [
    "print(\"1부터 1000까지 숫자 중에서 2의 배수이거나 3의 배수면 더하는 프로그램\")\n",
    "# 초기값 설정과 값 초기화\n",
    "num = 1\n",
    "res = 0\n",
    "\n",
    "while num <= 1000 :\n",
    "    if num % 2 == 0 or num % 3 == 0 : # num이 2의 배수 이거나 3의 배수면 res에 더해라\n",
    "        res += num\n",
    "    num += 1 # num에 1을 올린다.\n",
    "print(res)"
   ]
  },
  {
   "cell_type": "markdown",
   "id": "dff072f3",
   "metadata": {},
   "source": [
    "## 예비문제 2번 : 구구단 프로그램"
   ]
  },
  {
   "cell_type": "code",
   "execution_count": 6,
   "id": "677f35a1",
   "metadata": {},
   "outputs": [
    {
     "name": "stdout",
     "output_type": "stream",
     "text": [
      "구구단 프로그램\n",
      "5 x 1 = ? \n",
      "5\n",
      "정답\n",
      "8 x 5 = ? \n",
      "40\n",
      "정답\n",
      "3 x 3 = ? \n",
      "9\n",
      "정답\n",
      "7 x 5 = ? \n",
      "35\n",
      "정답\n",
      "5 x 6 = ? \n",
      "30\n",
      "정답\n",
      "9 x 9 = ? \n",
      "81\n",
      "정답\n",
      "8 x 6 = ? \n",
      "48\n",
      "정답\n",
      "2 x 8 = ? \n",
      "16\n",
      "정답\n",
      "3 x 9 = ? \n",
      "27\n",
      "정답\n",
      "5 x 3 = ? \n",
      "14\n",
      "오답\n",
      "맞춘 횟수 9회 틀린 횟수 1회\n"
     ]
    }
   ],
   "source": [
    "import random\n",
    "print(\"구구단 프로그램\")\n",
    "\n",
    "t_cnt = 0 \n",
    "f_cnt = 0\n",
    "\n",
    "for i in range(10):\n",
    "    a = random.randint(2, 9)\n",
    "    b = random.randint(1, 9)\n",
    "    print(f\"{a} x {b} = ? \")\n",
    "    answer = int(input(\"\"))\n",
    "    if a * b == answer :\n",
    "        print(\"정답\")\n",
    "        t_cnt += 1\n",
    "    else :\n",
    "        print(\"오답\")\n",
    "        f_cnt += 1\n",
    "print(f'맞춘 횟수 {t_cnt}회 틀린 횟수 {f_cnt}회')"
   ]
  },
  {
   "cell_type": "code",
   "execution_count": 7,
   "id": "7527a8f0",
   "metadata": {},
   "outputs": [
    {
     "name": "stdout",
     "output_type": "stream",
     "text": [
      "구구단 프로그램\n",
      "7 x 6 = ? : \n",
      "42\n",
      "정답\n",
      "9 x 9 = ? : \n",
      "81\n",
      "정답\n",
      "2 x 8 = ? : \n",
      "16\n",
      "정답\n",
      "7 x 3 = ? : \n",
      "21\n",
      "정답\n",
      "3 x 9 = ? : \n",
      "27\n",
      "정답\n",
      "5 x 6 = ? : \n",
      "30\n",
      "정답\n",
      "3 x 8 = ? : \n",
      "24\n",
      "정답\n",
      "8 x 4 = ? : \n",
      "32\n",
      "정답\n",
      "2 x 4 = ? : \n",
      "8\n",
      "정답\n",
      "7 x 2 = ? : \n",
      "14\n",
      "정답\n",
      "맞춘 횟수 10 틀린 횟수 0\n"
     ]
    }
   ],
   "source": [
    "import random # 라이브러리에서 랜덤을 불러옴\n",
    "print(\"구구단 프로그램\")\n",
    "\n",
    "t_cnt = 0 # 맞춘 횟수\n",
    "f_cnt = 0 # 틀린 횟수\n",
    "\n",
    "for i in range(10): # 구구단을 10번 실행\n",
    "    a = random.randint(2,9) # 2부터 9까지의 단을 생성\n",
    "    b = random.randint(1,9) # 1부터 9까지의 곱을 생성\n",
    "    print(f'{a} x {b} = ? : ')\n",
    "    answer = int(input('')) # 사용자에게 답을 입력받음\n",
    "    if a * b == answer : # 사용자의 답이 정답이면\n",
    "        print(\"정답\")\n",
    "        t_cnt += 1\n",
    "    else : # 사용자의 답이 오답이면\n",
    "        print(\"틀렸습니다.\")\n",
    "        f_cnt += 1\n",
    "        \n",
    "print(f\"맞춘 횟수 {t_cnt} 틀린 횟수 {f_cnt}\") # 최종 결과"
   ]
  },
  {
   "cell_type": "markdown",
   "id": "f891ce12",
   "metadata": {},
   "source": [
    "## 예비 문제 3번 : 가게부 만들기 프로그램"
   ]
  },
  {
   "cell_type": "code",
   "execution_count": 8,
   "id": "f79121b1",
   "metadata": {},
   "outputs": [
    {
     "name": "stdout",
     "output_type": "stream",
     "text": [
      "월 별로 수입액을 입력해주세요\n",
      "1 월의 수입액을 입력해주세요\n",
      "100\n",
      "2 월의 수입액을 입력해주세요\n",
      "200\n",
      "3 월의 수입액을 입력해주세요\n",
      "300\n",
      "4 월의 수입액을 입력해주세요\n",
      "100\n",
      "5 월의 수입액을 입력해주세요\n",
      "230\n",
      "6 월의 수입액을 입력해주세요\n",
      "400\n",
      "상반기 월별 수익액 입니다.\n",
      "상반기 월 수입액은 1330만원 입니다.\n",
      "상반기 월 수입액의 평균은 221.66666666666666만원 입니다.\n"
     ]
    }
   ],
   "source": [
    "money = []\n",
    "print(\"월 별로 수입액을 입력해주세요\")\n",
    "for j in range(0, 6):\n",
    "    print((j+1), '월의 수입액을 입력해주세요')\n",
    "    money.append(int(input('')))\n",
    "num = 0\n",
    "i = 0\n",
    "print('상반기 월별 수익액 입니다.')\n",
    "while i<6:\n",
    "    num = money[i] + num\n",
    "    i += 1\n",
    "avg = num / 6\n",
    "print(f'상반기 월 수입액은 {num}만원 입니다.')\n",
    "print(f'상반기 월 수입액의 평균은 {avg}만원 입니다.')"
   ]
  },
  {
   "cell_type": "code",
   "execution_count": 11,
   "id": "a9dc36d3",
   "metadata": {},
   "outputs": [
    {
     "name": "stdout",
     "output_type": "stream",
     "text": [
      "월 별로 수입액을 입력해주세요\n",
      "1 월의 수입액을 입력해 주세요\n",
      "200\n",
      "2 월의 수입액을 입력해 주세요\n",
      "200\n",
      "3 월의 수입액을 입력해 주세요\n",
      "200\n",
      "4 월의 수입액을 입력해 주세요\n",
      "200\n",
      "5 월의 수입액을 입력해 주세요\n",
      "200\n",
      "6 월의 수입액을 입력해 주세요\n",
      "200\n",
      "상반기 월 수익액은 600만원 입니다.\n",
      "상반기 월 수익액의 평균은 100만원 입니다.\n"
     ]
    }
   ],
   "source": [
    "money = [] # money라는 빈 리스트 생성\n",
    "\n",
    "print(\"월 별로 수입액을 입력해주세요\")\n",
    "\n",
    "for j in range(0,6):\n",
    "    print((j+1), '월의 수입액을 입력해 주세요')\n",
    "    money.append(int(input(''))) # 리스트에 추가할 숫자를 입력\n",
    "num = 0 \n",
    "i = 0\n",
    "\n",
    "while i < 6: # i가 6미만이면\n",
    "    num = money[i] + num \n",
    "    i += i+1\n",
    "avg = num // 6 # 평균 계산\n",
    "\n",
    "print(f'상반기 월 수익액은 {num}만원 입니다.')\n",
    "print(f'상반기 월 수익액의 평균은 {avg}만원 입니다.')"
   ]
  },
  {
   "cell_type": "markdown",
   "id": "6ff7d4e9",
   "metadata": {},
   "source": [
    "## 예상 문제 4 : 70점 이상 번호 출력"
   ]
  },
  {
   "cell_type": "code",
   "execution_count": 13,
   "id": "afdce607",
   "metadata": {},
   "outputs": [
    {
     "name": "stdout",
     "output_type": "stream",
     "text": [
      "리스트에서 점수가 70점 이상인 번호와 값 출력하기\n",
      "3번 83점\n",
      "6번 79점\n",
      "9번 94점\n",
      "10번 98점\n",
      "16번 81점\n",
      "18번 80점\n",
      "22번 93점\n"
     ]
    }
   ],
   "source": [
    "import random\n",
    "print('리스트에서 점수가 70점 이상인 번호와 값 출력하기')\n",
    "\n",
    "score = []\n",
    "for i in range(0, 25):\n",
    "    score.append(random.randint(0, 100))\n",
    "for s in score:\n",
    "    if s>=70:\n",
    "        print(f'{score.index(s)+1}번 {s}점')"
   ]
  },
  {
   "cell_type": "code",
   "execution_count": 14,
   "id": "53e399af",
   "metadata": {},
   "outputs": [
    {
     "name": "stdout",
     "output_type": "stream",
     "text": [
      "리스트에서 점수가 70점 이상인 번호와 값 출력하기\n",
      "2번 82점\n",
      "5번 89점\n",
      "16번 92점\n",
      "18번 95점\n",
      "20번 78점\n",
      "23번 93점\n",
      "16번 92점\n",
      "25번 91점\n"
     ]
    }
   ],
   "source": [
    "import random # 라이브러리를 불러옴 random\n",
    "\n",
    "score = [] # 빈 리스트 생성\n",
    "for i in range(0, 25): # 0번부터 24번 번호까지 돌리기\n",
    "    score.append(random.randint(0, 100)) # 리스트에 0 ~ 100까지 랜덤 숫자 출력\n",
    "print(\"리스트에서 점수가 70점 이상인 번호와 값 출력하기\")\n",
    "for s in score:\n",
    "    if s >= 70 : # 점수가 70점 이상이면\n",
    "        print(f'{score.index(s)+1}번 {s}점') # 출력하기"
   ]
  },
  {
   "cell_type": "markdown",
   "id": "57a2aff8",
   "metadata": {},
   "source": [
    "## 예상 문제 5번 : 지하철 게임 만들기"
   ]
  },
  {
   "cell_type": "code",
   "execution_count": 15,
   "id": "d8a20593",
   "metadata": {},
   "outputs": [
    {
     "name": "stdout",
     "output_type": "stream",
     "text": [
      "지하철 ♪♬지하철 ♪♬지하철 ♪♬지하철 ♪♬\n",
      "몇호선 : 신분당선\n",
      "광교\n",
      "광교중앙\n",
      "ㅈ\n",
      "땡! 해당역은 신분당선이 아닙니다!\n",
      "벌칙 당첨!\n"
     ]
    }
   ],
   "source": [
    "신분당선 = [\"광교\", '광교중앙', '상현', '성복', '수지구청', '동천', '미금', '정자',\n",
    "       '판교', '청계산입구', '양재시민의숲', '양재', '강남']\n",
    "팔호선 = ['모란', '수진', '신흥', '단대오거리', '남한산성입구', '산성', '남위례', \n",
    "      '복정', '장치', '문정', '가락시장', '송파', '석촌', '잠실', '몽촌토성',\n",
    "      '강동구청', '천호', '암사']\n",
    "\n",
    "print(\"지하철 ♪♬\" * 4)\n",
    "\n",
    "호선 = input(\"몇호선 : \")\n",
    "\n",
    "for i in range(10):\n",
    "    if 호선 == '신분당선':\n",
    "        입력 = input()\n",
    "        if 입력 not in 신분당선:\n",
    "            print(f\"땡! 해당역은 {호선}이 아닙니다!\")\n",
    "            print(\"벌칙 당첨!\")\n",
    "            break\n",
    "    elif 호선 == '신분당선':\n",
    "        입력 = input()\n",
    "        if 입력 not in 신분당선:\n",
    "            print(f\"땡! 해당역은 {호선}이 아닙니다!\")\n",
    "            print(\"벌칙 당첨!\")\n",
    "            break"
   ]
  },
  {
   "cell_type": "code",
   "execution_count": 17,
   "id": "79814584",
   "metadata": {},
   "outputs": [
    {
     "name": "stdout",
     "output_type": "stream",
     "text": [
      "지하철 ♬♪ 지하철 ♬♪ 지하철 ♬♪ 지하철 ♬♪ \n",
      "몇호선 ? : 팔호선\n",
      "모란\n",
      "이매\n",
      "땡! 이 역은 팔호선이 아닙니다!\n",
      "벌칙 당첨!\n"
     ]
    }
   ],
   "source": [
    "신분당선 = [\"광교\", '광교중앙', '상현', '성복', '수지구청', '동천', '미금', '정자',\n",
    "       '판교', '청계산입구', '양재시민의숲', '양재', '강남']\n",
    "팔호선 = ['모란', '수진', '신흥', '단대오거리', '남한산성입구', '산성', '남위례', \n",
    "      '복정', '장치', '문정', '가락시장', '송파', '석촌', '잠실', '몽촌토성',\n",
    "      '강동구청', '천호', '암사']\n",
    "\n",
    "print(\"지하철 ♬♪ \"*4)\n",
    "\n",
    "호선 = input(\"몇호선 ? : \") # 신분당선과 팔호선중 하나를 입력받음\n",
    "\n",
    "for i in range(10): # 10번 문제 진행\n",
    "    if 호선 == '신분당선': # 만약 신분당선이면\n",
    "        입력 = input('') # 신분당선 역을 입력\n",
    "        if 입력 not in 신분당선 : # 아닐 경우\n",
    "            print(f'땡! 이 역은 {호선}이 아닙니다!')\n",
    "            print('벌칙 당첨!')\n",
    "            break # 멈춤\n",
    "    elif 호선 == '팔호선': # 만약 팔호선이면\n",
    "        입력 = input('') # 팔호선 역을 입력\n",
    "        if 입력 not in 팔호선: # 아닐 경우\n",
    "            print(f\"땡! 이 역은 {호선}이 아닙니다!\")\n",
    "            print('벌칙 당첨!')\n",
    "            break # 멈춤"
   ]
  },
  {
   "cell_type": "code",
   "execution_count": 18,
   "id": "244d6469",
   "metadata": {},
   "outputs": [
    {
     "name": "stdout",
     "output_type": "stream",
     "text": [
      "333167\n"
     ]
    }
   ],
   "source": [
    "result = 0\n",
    "\n",
    "for i in range(1, 1000):\n",
    "    if i % 2 == 0 or i % 3 == 0 :\n",
    "        result += i\n",
    "        i += 1\n",
    "print(result)"
   ]
  },
  {
   "cell_type": "code",
   "execution_count": null,
   "id": "6067f994",
   "metadata": {},
   "outputs": [],
   "source": [
    "import random\n",
    "\n",
    "print(\"구구단을 외자~\")\n",
    "\n",
    "for i in range(10):\n",
    "    a = a.random.radint(2, 9)"
   ]
  }
 ],
 "metadata": {
  "kernelspec": {
   "display_name": "Python 3 (ipykernel)",
   "language": "python",
   "name": "python3"
  },
  "language_info": {
   "codemirror_mode": {
    "name": "ipython",
    "version": 3
   },
   "file_extension": ".py",
   "mimetype": "text/x-python",
   "name": "python",
   "nbconvert_exporter": "python",
   "pygments_lexer": "ipython3",
   "version": "3.9.7"
  }
 },
 "nbformat": 4,
 "nbformat_minor": 5
}
