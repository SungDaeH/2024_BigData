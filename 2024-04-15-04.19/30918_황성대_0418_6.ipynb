{
 "cells": [
  {
   "cell_type": "markdown",
   "id": "a2cc7ec3",
   "metadata": {},
   "source": [
    "# 30918_황성대_0418_6"
   ]
  },
  {
   "cell_type": "markdown",
   "id": "70974346",
   "metadata": {},
   "source": [
    "# 예상문제 3 : 가게부 만들기 프로그램"
   ]
  },
  {
   "cell_type": "code",
   "execution_count": 5,
   "id": "d6891e6e",
   "metadata": {},
   "outputs": [
    {
     "name": "stdout",
     "output_type": "stream",
     "text": [
      "월 별로 수입액을 입력해주세요\n",
      "1 월의 수입액을 입력시켜 주세요\n",
      "10\n",
      "2 월의 수입액을 입력시켜 주세요\n",
      "11\n",
      "3 월의 수입액을 입력시켜 주세요\n",
      "12\n",
      "4 월의 수입액을 입력시켜 주세요\n",
      "13\n",
      "5 월의 수입액을 입력시켜 주세요\n",
      "14\n",
      "6 월의 수입액을 입력시켜 주세요\n",
      "15\n",
      "상반기 월별 수익액 입니다.\n",
      "상반기 월 수입액은 75만원 입니다.\n",
      "상반기 월 수입액의 평균은 12.5만원 입니다.\n"
     ]
    }
   ],
   "source": [
    "money = []\n",
    "print(\"월 별로 수입액을 입력해주세요\")\n",
    "for j in range(0,6):\n",
    "    print((j+1), \"월의 수입액을 입력시켜 주세요\")\n",
    "    money.append(int(input(\"\")))\n",
    "num = 0\n",
    "i = 0\n",
    "print(\"상반기 월별 수익액 입니다.\")\n",
    "while i<6:\n",
    "    num = money[i] + num\n",
    "    i = i+1\n",
    "avg = num/6\n",
    "print(f\"상반기 월 수입액은 {num}만원 입니다.\")\n",
    "print(f\"상반기 월 수입액의 평균은 {avg}만원 입니다.\")"
   ]
  },
  {
   "cell_type": "markdown",
   "id": "bec9bd82",
   "metadata": {},
   "source": [
    "```\n",
    "money = [] \n",
    "# 월별 수입을 저장할 리스트를 초기화 합니다.\n",
    "print(\"월 별로 수입액을 입력해주세요\")\n",
    "for j in range(0,6):\n",
    "    print((j+1), \"월의 수입액을 입력시켜 주세요\")\n",
    "    money.append(int(input(\"\"))) \n",
    "    # 사용자로부터 수입을 입력 받아 리스트에 추가합니다.\n",
    "num = 0 \n",
    "# 총 수입을 저장할 변수를 초기화합니다.\n",
    "i = 0\n",
    "print(\"상반기 월별 수익액 입니다.\")\n",
    "while i<6:\n",
    "    num = money[i] + num \n",
    "    # 리스트의 각 항목을 더해 총 수입을 계산합니다.\n",
    "    i = i+1\n",
    "avg = num/6 \n",
    "# 평균을 계산합니다.\n",
    "print(f\"상반기 월 수입액은 {num}만원 입니다.\")\n",
    "print(f\"상반기 월 수입액의 평균은 {avg}만원 입니다.\")\n",
    "```"
   ]
  },
  {
   "cell_type": "markdown",
   "id": "f482d7ea",
   "metadata": {},
   "source": [
    "## 예상문제 4 : 70점 이상 번호 출력"
   ]
  },
  {
   "cell_type": "code",
   "execution_count": 9,
   "id": "d5309f12",
   "metadata": {},
   "outputs": [
    {
     "name": "stdout",
     "output_type": "stream",
     "text": [
      "리스트에서 점수가 70점 이상인 번호와 값 출력하기\n",
      "1 번 74점\n",
      "4 번 75점\n",
      "8 번 99점\n",
      "9 번 89점\n",
      "10 번 76점\n",
      "8 번 99점\n",
      "13 번 93점\n",
      "17 번 95점\n",
      "21 번 84점\n",
      "4 번 75점\n"
     ]
    }
   ],
   "source": [
    "import random\n",
    "score = []\n",
    "for i in range(0, 25):\n",
    "    score.append(random.randint(0,100))\n",
    "print('리스트에서 점수가 70점 이상인 번호와 값 출력하기')\n",
    "for s in score :\n",
    "    if s>=70:\n",
    "        print(f'{score.index(s)+1} 번 {s}점')"
   ]
  },
  {
   "cell_type": "code",
   "execution_count": 11,
   "id": "a871f85c",
   "metadata": {},
   "outputs": [
    {
     "name": "stdout",
     "output_type": "stream",
     "text": [
      "리스트에서 점수가 70점 이상인 번호와 값 출력하기\n",
      "1번 77점\n",
      "2번 79점\n",
      "3번 87점\n",
      "4번 84점\n",
      "3번 87점\n",
      "14번 92점\n",
      "2번 79점\n",
      "18번 100점\n",
      "19번 70점\n",
      "24번 88점\n"
     ]
    }
   ],
   "source": [
    "import random # 특정 라이브러리를 불러오기\n",
    "\n",
    "# 25명의 학생들에게 무작위로 점수를 부여합니다.\n",
    "print(\"리스트에서 점수가 70점 이상인 번호와 값 출력하기\")\n",
    "score = []\n",
    "\n",
    "for i in range(0, 25):\n",
    "    score.append(random.randint(0, 100))\n",
    "    \n",
    "# 리스트에서 70점 이상인 점수를 가진 학생들의 번호와 점수를 출력합니다.\n",
    "for s in score : \n",
    "    if s >= 70:\n",
    "        print(f'{score.index(s)+1}번 {s}점')"
   ]
  },
  {
   "cell_type": "markdown",
   "id": "b01d17d3",
   "metadata": {},
   "source": [
    "## 예시 문제 5 : 지하철 게임 만들기"
   ]
  },
  {
   "cell_type": "code",
   "execution_count": 16,
   "id": "a53a4e0f",
   "metadata": {},
   "outputs": [
    {
     "name": "stdout",
     "output_type": "stream",
     "text": [
      "지하철~🎵🎶 지하철~🎵🎶 지하철~🎵🎶 지하철~🎵🎶 \n",
      "몇호선? : 팔호선\n",
      "?\n",
      "땡! 해당 역은 팔호선이 아닙니다!\n",
      "벌칙 당첨!\n"
     ]
    }
   ],
   "source": [
    "신분당선 = [\"광교\", '광교중앙', '상현', '성복', '수지구청', '동천', '미금', '정자',\n",
    "       '판교', '청계산입구', '양재시민의숲', '양재', '강남']\n",
    "팔호선 = ['모란', '수진', '신흥', '단대오거리', '남한산성입구', '산성', '남위례', \n",
    "      '복정', '장치', '문정', '가락시장', '송파', '석촌', '잠실', '몽촌토성',\n",
    "      '강동구청', '천호', '암사']\n",
    "\n",
    "print(\"지하철~🎵🎶 \" * 4)\n",
    "\n",
    "\n",
    "호선 = input(\"몇호선? : \")\n",
    "\n",
    "for i in range(10):\n",
    "    if 호선 == '신분당선':\n",
    "        입력 = input()\n",
    "        if 입력 not in 신분당선 : \n",
    "            print(f'땡! 해당 역은 {호선}이 아닙니다!')\n",
    "            print(\"벌칙 당첨!\")\n",
    "            break\n",
    "    elif 호선 == '팔호선':\n",
    "        입력 = input()\n",
    "        if 입력 not in 팔호선 : \n",
    "            print(f'땡! 해당 역은 {호선}이 아닙니다!')\n",
    "            print(\"벌칙 당첨!\")\n",
    "            break"
   ]
  },
  {
   "cell_type": "code",
   "execution_count": 17,
   "id": "031467cd",
   "metadata": {},
   "outputs": [
    {
     "name": "stdout",
     "output_type": "stream",
     "text": [
      "지하철~🎵🎶 지하철~🎵🎶 지하철~🎵🎶 지하철~🎵🎶 \n",
      "몇호선? : 신분당선\n",
      "이매\n",
      "땡! 해당 역은 신분당선이 아닙니다!\n",
      "벌칙 당첨!\n"
     ]
    }
   ],
   "source": [
    "신분당선 = [\"광교\", '광교중앙', '상현', '성복', '수지구청', '동천', '미금', '정자',\n",
    "       '판교', '청계산입구', '양재시민의숲', '양재', '강남']\n",
    "팔호선 = ['모란', '수진', '신흥', '단대오거리', '남한산성입구', '산성', '남위례', \n",
    "      '복정', '장치', '문정', '가락시장', '송파', '석촌', '잠실', '몽촌토성',\n",
    "      '강동구청', '천호', '암사']\n",
    "\n",
    "print(\"지하철~🎵🎶 \" * 4)\n",
    "\n",
    "# 사용자로부터 호선을 입력받습니다.\n",
    "호선 = input(\"몇호선? : \")\n",
    "\n",
    "# 입력된 호선에 따라 호선의 역이름을 입력받고, 입력된 역이 해당 호선이 속하는지\n",
    "# 확인합니다.\n",
    "for i in range(10):\n",
    "    if 호선 == '신분당선':\n",
    "        입력 = input()\n",
    "        if 입력 not in 신분당선 : \n",
    "            print(f'땡! 해당 역은 {호선}이 아닙니다!')\n",
    "            print(\"벌칙 당첨!\")\n",
    "            break\n",
    "    elif 호선 == '팔호선':\n",
    "        입력 = input()\n",
    "        if 입력 not in 팔호선 : \n",
    "            print(f'땡! 해당 역은 {호선}이 아닙니다!')\n",
    "            print(\"벌칙 당첨!\")\n",
    "            break"
   ]
  },
  {
   "cell_type": "code",
   "execution_count": null,
   "id": "6757e801",
   "metadata": {},
   "outputs": [],
   "source": []
  }
 ],
 "metadata": {
  "kernelspec": {
   "display_name": "Python 3 (ipykernel)",
   "language": "python",
   "name": "python3"
  },
  "language_info": {
   "codemirror_mode": {
    "name": "ipython",
    "version": 3
   },
   "file_extension": ".py",
   "mimetype": "text/x-python",
   "name": "python",
   "nbconvert_exporter": "python",
   "pygments_lexer": "ipython3",
   "version": "3.9.7"
  }
 },
 "nbformat": 4,
 "nbformat_minor": 5
}
