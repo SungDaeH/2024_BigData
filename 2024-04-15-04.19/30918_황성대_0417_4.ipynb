{
 "cells": [
  {
   "cell_type": "markdown",
   "id": "fe3ba423",
   "metadata": {},
   "source": [
    "# 30918_황성대_0417_4"
   ]
  },
  {
   "cell_type": "markdown",
   "id": "b4999229",
   "metadata": {},
   "source": [
    "1. 1부터 1000까지 숫자 중에서 2의 배수이거나 3의 배수면 더 하는 프로그램"
   ]
  },
  {
   "cell_type": "code",
   "execution_count": 6,
   "id": "680b29e0",
   "metadata": {},
   "outputs": [
    {
     "name": "stdout",
     "output_type": "stream",
     "text": [
      "1부터 1000까지 숫자 중에서 2의 배수이거나 3의 배수면 더하는 프로그램\n",
      "334167\n"
     ]
    }
   ],
   "source": [
    "print(\"1부터 1000까지 숫자 중에서 2의 배수이거나 3의 배수면 더하는 프로그램\")\n",
    "\n",
    "# 변수 만들고, 초기화\n",
    "num = 1\n",
    "res = 0\n",
    "\n",
    "# 언제까지? 1부터 1000까지, 반복은 while\n",
    "# 2의 배수이거나 3의 배수\n",
    "# 2의 배수 num % 2 == 0\n",
    "# 이거나 = or\n",
    "# 3의 배수 num % 3 == 0\n",
    "\n",
    "while num <= 1000:\n",
    "    if num % 2 == 0 or num % 3 == 0 :\n",
    "        res += num\n",
    "    num += 1\n",
    "print(res)"
   ]
  },
  {
   "cell_type": "code",
   "execution_count": 7,
   "id": "d9254d06",
   "metadata": {},
   "outputs": [
    {
     "name": "stdout",
     "output_type": "stream",
     "text": [
      "1부터 1000까지 숫자 중에서 2의 배수이거나 3의 배수면 더하는 프로그램\n",
      "334167\n"
     ]
    }
   ],
   "source": [
    "print(\"1부터 1000까지 숫자 중에서 2의 배수이거나 3의 배수면 더하는 프로그램\")\n",
    "\n",
    "# 변수 만들고 초기화\n",
    "res = 0 # 결과를 저장할 변수를 초기화합니다,\n",
    "num = 1 # 시작 숫자를 1로 설정합니다.\n",
    "\n",
    "# 언제까지? 1부터 1000까지, 반복은 while\n",
    "# 2의 배수 이거나 3의 배수\n",
    "# 2의 배수 num % 2 == 0\n",
    "# 이거나 = or\n",
    "# 3의 배수 num % 2 == 0\n",
    "\n",
    "# 1부터 1000까지의 숫자를 반복하면서 조건을 검사합니다.\n",
    "while num <= 1000: \n",
    "    # 만약 현재 숫자가 2와 3의 배수라면\n",
    "    if num % 2 == 0 or num % 3 == 0 :\n",
    "        res += num # 결과 변수에 현재 숫자를 더합니다.\n",
    "    num += 1 # 다음 숫자로 넘어갑니다.\n",
    "print(res) # 결과를 출력합니다."
   ]
  },
  {
   "cell_type": "markdown",
   "id": "5f8f40a4",
   "metadata": {},
   "source": [
    "# 구구단 프로그램"
   ]
  },
  {
   "cell_type": "code",
   "execution_count": 8,
   "id": "aadbf67f",
   "metadata": {},
   "outputs": [
    {
     "name": "stdout",
     "output_type": "stream",
     "text": [
      "구구단 프로그램\n",
      "9 x 6 = ? \n",
      "54\n",
      "정답!\n",
      "3 x 5 = ? \n",
      "15\n",
      "정답!\n",
      "4 x 9 = ? \n",
      "36\n",
      "정답!\n",
      "4 x 7 = ? \n",
      "28\n",
      "정답!\n",
      "8 x 6 = ? \n",
      "54\n",
      "틀렸습니다!\n",
      "7 x 7 = ? \n",
      "49\n",
      "정답!\n",
      "8 x 4 = ? \n",
      "32\n",
      "정답!\n",
      "8 x 3 = ? \n",
      "24\n",
      "정답!\n",
      "4 x 8 = ? \n",
      "32\n",
      "정답!\n",
      "4 x 7 = ? \n",
      "28\n",
      "정답!\n",
      "맞춘 횟수 : 9, 틀린 횟수 1\n"
     ]
    }
   ],
   "source": [
    "import random # 라이브러리에 랜덤을 불러온다\n",
    "print('구구단 프로그램')\n",
    "t_cnt = 0 # 맞춘 횟수\n",
    "f_cnt = 0 # 틀린 횟수\n",
    "for i in range(10): # i가 10번 돌아가는 반복문\n",
    "    a = random.randint(2, 9) # a 라는 변수에 2와 9까지의 임의의 숫자를 대입한다.\n",
    "    b = random.randint(1, 9) # b 라는 변수 1과 9까지의 임의의 숫자를 대입한다.\n",
    "    print(\"{} x {} = ? \".format(a,b)) # 문제를 출력한다,\n",
    "    answer = int(input('')) # 정답을 입력하는 곳\n",
    "    if a * b == answer: # 만약 답이 맞다면\n",
    "        print(\"정답!\")\n",
    "        t_cnt = t_cnt + 1 # 옳은 정답 수 증가\n",
    "    else :  # 아니면\n",
    "        print(\"틀렸습니다!\")\n",
    "        f_cnt = f_cnt + 1 # 틀린 정답 수 증가\n",
    "print(\"맞춘 횟수 : {}, 틀린 횟수 {}\".format(t_cnt, f_cnt)) # 맞춘 횟수와 틀린 횟수를 표시"
   ]
  },
  {
   "cell_type": "code",
   "execution_count": 9,
   "id": "726a620e",
   "metadata": {},
   "outputs": [
    {
     "name": "stdout",
     "output_type": "stream",
     "text": [
      "구구단 프로그램\n",
      "7 x 6 = ? \n",
      "42\n",
      "정답!\n",
      "8 x 1 = ? \n",
      "8\n",
      "정답!\n",
      "8 x 7 = ? \n",
      "56\n",
      "정답!\n",
      "7 x 5 = ? \n",
      "35\n",
      "정답!\n",
      "4 x 4 = ? \n",
      "16\n",
      "정답!\n",
      "2 x 2 = ? \n",
      "4\n",
      "정답!\n",
      "2 x 5 = ? \n",
      "10\n",
      "정답!\n",
      "2 x 2 = ? \n",
      "4\n",
      "정답!\n",
      "3 x 1 = ? \n",
      "3\n",
      "정답!\n",
      "8 x 7 = ? \n",
      "56\n",
      "정답!\n",
      "맞춘 횟수 : 10, 틀린 횟수 0\n"
     ]
    }
   ],
   "source": [
    "import random \n",
    "print('구구단 프로그램')\n",
    "t_cnt = 0 # 맞춘 횟수\n",
    "f_cnt = 0 # 틀린 횟수\n",
    "for i in range(10): # i가 10번 돌아가는 반복문\n",
    "    a = random.randint(2, 9) \n",
    "    # 2부터 9까지의 임의의 숫자를 선택하여 구구단의 단을 결정합니다.\n",
    "    b = random.randint(1, 9) \n",
    "    # 1부터 9까지의 임의의 숫자를 선택하여 구구단의 곱을 결정합니다.\n",
    "    print(\"{} x {} = ? \".format(a,b)) # 문제를 출력한다,\n",
    "    answer = int(input('')) # 사용자가 답을 입력합니다.\n",
    "    if a * b == answer: # 사용자의 답을 비교합니다.\n",
    "        print(\"정답!\")\n",
    "        t_cnt = t_cnt + 1 # 옳은 정답 수 증가\n",
    "    else :  # 아니면\n",
    "        print(\"틀렸습니다!\")\n",
    "        f_cnt = f_cnt + 1 # 틀린 정답 수 증가\n",
    "print(\"맞춘 횟수 : {}, 틀린 횟수 {}\".format(t_cnt, f_cnt)) # 맞춘 횟수와 틀린 횟수를 표시"
   ]
  },
  {
   "cell_type": "code",
   "execution_count": null,
   "id": "73d27aec",
   "metadata": {},
   "outputs": [],
   "source": []
  }
 ],
 "metadata": {
  "kernelspec": {
   "display_name": "Python 3 (ipykernel)",
   "language": "python",
   "name": "python3"
  },
  "language_info": {
   "codemirror_mode": {
    "name": "ipython",
    "version": 3
   },
   "file_extension": ".py",
   "mimetype": "text/x-python",
   "name": "python",
   "nbconvert_exporter": "python",
   "pygments_lexer": "ipython3",
   "version": "3.9.7"
  }
 },
 "nbformat": 4,
 "nbformat_minor": 5
}
