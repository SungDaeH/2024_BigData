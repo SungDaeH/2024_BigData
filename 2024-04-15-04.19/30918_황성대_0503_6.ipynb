{
 "cells": [
  {
   "cell_type": "markdown",
   "id": "2f6df7ca",
   "metadata": {},
   "source": [
    "# 30918_황성대_0503_6"
   ]
  },
  {
   "cell_type": "markdown",
   "id": "5a2284a7",
   "metadata": {},
   "source": [
    "# 1119 : 일을 시간으로 변환\n",
    "\n",
    "하루는 24시간이다.\n",
    "\n",
    "일(day)이 입력으로 주어지면 시간으로 변환하시오."
   ]
  },
  {
   "cell_type": "code",
   "execution_count": 5,
   "id": "1f735519",
   "metadata": {},
   "outputs": [
    {
     "name": "stdout",
     "output_type": "stream",
     "text": [
      "2\n",
      "48\n"
     ]
    }
   ],
   "source": [
    "a = int(input())\n",
    "print(a*24)"
   ]
  },
  {
   "cell_type": "markdown",
   "id": "8746b9b5",
   "metadata": {},
   "source": [
    "# 1120 : 세 수의 평균\n",
    "세 정수가 입력되면 평균을 출력하시오."
   ]
  },
  {
   "cell_type": "code",
   "execution_count": 7,
   "id": "2a9feea3",
   "metadata": {},
   "outputs": [
    {
     "name": "stdout",
     "output_type": "stream",
     "text": [
      "1 2 3\n",
      "2.00\n"
     ]
    }
   ],
   "source": [
    "a,b,c = map(int, input().split())\n",
    "\n",
    "print(format((a+b+c)/3, '.2f'))"
   ]
  },
  {
   "cell_type": "markdown",
   "id": "44a62588",
   "metadata": {},
   "source": [
    "# 1121 : 나머지 구하기\n",
    "\n",
    "정수 계산에서 나머지를 구하시오.\n",
    "\n",
    "예를 들어\n",
    "\n",
    "7 / 5 의 나머지는 2입니다."
   ]
  },
  {
   "cell_type": "code",
   "execution_count": 9,
   "id": "a09e1152",
   "metadata": {},
   "outputs": [
    {
     "name": "stdout",
     "output_type": "stream",
     "text": [
      "7 5\n",
      "2\n"
     ]
    }
   ],
   "source": [
    "a, b = map(int, input().split())\n",
    "\n",
    "print(a%b)"
   ]
  },
  {
   "cell_type": "markdown",
   "id": "d6c8c47a",
   "metadata": {},
   "source": [
    "# 1122 : 초를 분/초로 변환\n",
    "\n",
    "```\n",
    "초를 입력받아 분 / 초의 형태로 출력하시오.\n",
    "\n",
    "예)\n",
    "\n",
    "60  ====>   1 0    (1분 0초를 뜻함)\n",
    "\n",
    "70    ====>    1  10       (1분 10초를 뜻함)\n",
    "```"
   ]
  },
  {
   "cell_type": "code",
   "execution_count": 15,
   "id": "7d1e3b18",
   "metadata": {},
   "outputs": [
    {
     "name": "stdout",
     "output_type": "stream",
     "text": [
      "70\n",
      "1 10\n"
     ]
    }
   ],
   "source": [
    "a = int(input())\n",
    "\n",
    "print(a//60, a%60)"
   ]
  },
  {
   "cell_type": "markdown",
   "id": "25922fe0",
   "metadata": {},
   "source": [
    "# 1123 : 섭씨 온도를 화씨 온도로 변환\n",
    "\n",
    "섭씨 온도가 입력되면 화씨 온도로 변환하시오.\n",
    "\n",
    "화씨 온도 = 9 / 5 * 섭씨온도 + 32"
   ]
  },
  {
   "cell_type": "code",
   "execution_count": 18,
   "id": "05399fd3",
   "metadata": {},
   "outputs": [
    {
     "name": "stdout",
     "output_type": "stream",
     "text": [
      "30\n",
      "86.000\n"
     ]
    }
   ],
   "source": [
    "score = int(input())\n",
    "\n",
    "a = 9/5*score+32\n",
    "\n",
    "print(format(a, '.3f'))"
   ]
  },
  {
   "cell_type": "markdown",
   "id": "ec776cd5",
   "metadata": {},
   "source": [
    "# 1125 : 8진수 16진수 변환\n",
    "\n",
    "10진수 정수를 입력받아 8진수와 16진수로 출력한다."
   ]
  },
  {
   "cell_type": "code",
   "execution_count": 25,
   "id": "e398e62b",
   "metadata": {},
   "outputs": [
    {
     "name": "stdout",
     "output_type": "stream",
     "text": [
      "10\n",
      "12 A\n"
     ]
    }
   ],
   "source": [
    "a = int(input())\n",
    "\n",
    "print('%o'%a,'%X'%a)"
   ]
  },
  {
   "cell_type": "code",
   "execution_count": null,
   "id": "3eb78880",
   "metadata": {},
   "outputs": [],
   "source": []
  }
 ],
 "metadata": {
  "kernelspec": {
   "display_name": "Python 3 (ipykernel)",
   "language": "python",
   "name": "python3"
  },
  "language_info": {
   "codemirror_mode": {
    "name": "ipython",
    "version": 3
   },
   "file_extension": ".py",
   "mimetype": "text/x-python",
   "name": "python",
   "nbconvert_exporter": "python",
   "pygments_lexer": "ipython3",
   "version": "3.9.7"
  }
 },
 "nbformat": 4,
 "nbformat_minor": 5
}
