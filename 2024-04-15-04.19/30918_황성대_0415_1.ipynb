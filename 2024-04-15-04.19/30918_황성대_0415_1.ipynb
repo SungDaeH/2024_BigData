{
 "cells": [
  {
   "cell_type": "markdown",
   "id": "6c252dea",
   "metadata": {},
   "source": [
    "# 30918_황성대_0415_1"
   ]
  },
  {
   "cell_type": "code",
   "execution_count": 2,
   "id": "1f19c03a",
   "metadata": {},
   "outputs": [
    {
     "name": "stdout",
     "output_type": "stream",
     "text": [
      "150번 반복, 결과 : 6275\n"
     ]
    }
   ],
   "source": [
    "## 반복문을 이용하여 101부터 150까지 합을 구하는 프로그램 작성\n",
    "\n",
    "s = 0\n",
    "\n",
    "for i in range(101, 150+1):\n",
    "    s += i\n",
    "print(f'{i}번 반복, 결과 : {s}')"
   ]
  },
  {
   "cell_type": "code",
   "execution_count": 5,
   "id": "fbca60e8",
   "metadata": {},
   "outputs": [
    {
     "name": "stdout",
     "output_type": "stream",
     "text": [
      "362880\n"
     ]
    }
   ],
   "source": [
    "# 1부터 10까지 곱하는 프로그램 작성\n",
    "\n",
    "m = 1\n",
    "\n",
    "for i in range(1, 10):\n",
    "    m *= i\n",
    "\n",
    "print(m)"
   ]
  },
  {
   "cell_type": "code",
   "execution_count": 10,
   "id": "aabaf61f",
   "metadata": {
    "scrolled": true
   },
   "outputs": [
    {
     "name": "stdout",
     "output_type": "stream",
     "text": [
      "몇 단을 외울까요? : 12\n",
      "12 x 1 = 12\n",
      "12 x 2 = 24\n",
      "12 x 3 = 36\n",
      "12 x 4 = 48\n",
      "12 x 5 = 60\n",
      "12 x 6 = 72\n",
      "12 x 7 = 84\n",
      "12 x 8 = 96\n",
      "12 x 9 = 108\n"
     ]
    }
   ],
   "source": [
    "# 구구단 출력하기\n",
    "# 입력값 설계\n",
    "num = int(input(\"몇 단을 외울까요? : \"))\n",
    "# 출력값 설계\n",
    "for i in range(1, 10):\n",
    "    print(f'{num} x {i} = {num*i}')"
   ]
  },
  {
   "cell_type": "code",
   "execution_count": 11,
   "id": "1f14266c",
   "metadata": {},
   "outputs": [
    {
     "name": "stdout",
     "output_type": "stream",
     "text": [
      "0.9211836753302697\n"
     ]
    }
   ],
   "source": [
    "# random 임의의 숫자\n",
    "\n",
    "# 라이브러리 library 불러오기\n",
    "\n",
    "import random\n",
    "\n",
    "print(random.random())"
   ]
  },
  {
   "cell_type": "code",
   "execution_count": 19,
   "id": "8e69f3d2",
   "metadata": {},
   "outputs": [
    {
     "name": "stdout",
     "output_type": "stream",
     "text": [
      "7\n"
     ]
    }
   ],
   "source": [
    "# 라이브러리 library 불러오기\n",
    "\n",
    "import random\n",
    "# 랜덤 범위를 저장한다. 정수 가져오기\n",
    "print(random.randrange(1,10))"
   ]
  },
  {
   "cell_type": "code",
   "execution_count": 21,
   "id": "4e1506e7",
   "metadata": {},
   "outputs": [
    {
     "name": "stdout",
     "output_type": "stream",
     "text": [
      "0 1 4 1 2 10 1 7 4 8 "
     ]
    }
   ],
   "source": [
    "import random\n",
    "for i in range(10):\n",
    "    print(random.randint(0,10), end = \" \")"
   ]
  },
  {
   "cell_type": "code",
   "execution_count": 22,
   "id": "c98ab506",
   "metadata": {},
   "outputs": [
    {
     "name": "stdout",
     "output_type": "stream",
     "text": [
      "구구단 외자!구구단 외자!\n",
      "7 * 4 은? 28\n",
      "6 * 1 은? 6\n",
      "3 * 5 은? 15\n",
      "7 * 8 은? 56\n",
      "4 * 7 은? 28\n",
      "7 * 2 은? 14\n",
      "4 * 8 은? 32\n",
      "7 * 9 은? 63\n",
      "3 * 3 은? 9\n"
     ]
    }
   ],
   "source": [
    "# 구구단 외기 게임 1\n",
    "import random\n",
    "\n",
    "print(\"구구단 외자!\" *2)\n",
    "\n",
    "for i in range(1,10):\n",
    "    a = random.randint(2, 9)\n",
    "    b = random.randint(1, 9)\n",
    "    print(f'{a} * {b} 은? {a*b}')"
   ]
  },
  {
   "cell_type": "code",
   "execution_count": 24,
   "id": "3fdc2652",
   "metadata": {},
   "outputs": [
    {
     "name": "stdout",
     "output_type": "stream",
     "text": [
      "구구단 외자!구구단 외자!\n",
      "2 X 2? 4\n",
      "2 X 9? 18\n",
      "2 X 3? 6\n",
      "6 X 2? 12\n",
      "7 X 8? 56\n",
      "2 X 2? 4\n",
      "7 X 1? 7\n",
      "5 X 3? 15\n",
      "8 X 9? 72\n"
     ]
    }
   ],
   "source": [
    "# 구구단 외기 게임 2 - 정답을 입력받어 보기\n",
    "import random\n",
    "\n",
    "print(\"구구단 외자!\" *2)\n",
    "\n",
    "for i in range(1,10):\n",
    "    a = random.randint(2, 9)\n",
    "    b = random.randint(1, 9)\n",
    "    question = str(a) + \" X \" + str(b) + '? '\n",
    "    input(question)"
   ]
  },
  {
   "cell_type": "code",
   "execution_count": 32,
   "id": "0eb2df7c",
   "metadata": {},
   "outputs": [
    {
     "name": "stdout",
     "output_type": "stream",
     "text": [
      "구구단 외자!구구단 외자!\n",
      "4 X 2 = ?8\n",
      "6 X 9 = ?54\n",
      "3 X 5 = ?15\n",
      "3 X 1 = ?3\n",
      "2 X 9 = ?18\n",
      "4 X 3 = ?12\n",
      "9 X 2 = ?18\n",
      "5 X 2 = ?10\n",
      "3 X 5 = ?14\n",
      "오답\n"
     ]
    }
   ],
   "source": [
    "# 구구단 외기 게임 3 - 정답입력이 맞다 틀리다를 구분\n",
    "import random\n",
    "\n",
    "print(\"구구단 외자!\" *2)\n",
    "\n",
    "for i in range(1,10):\n",
    "    a = random.randint(2, 9)\n",
    "    b = random.randint(1, 9)\n",
    "    question = input(f\"{a} X {b} = ? : \")\n",
    "    answer = int(question)\n",
    "\n",
    "    if answer != a*b :\n",
    "        print(\"오답\")\n",
    "        break"
   ]
  },
  {
   "cell_type": "code",
   "execution_count": null,
   "id": "4ca49ff8",
   "metadata": {},
   "outputs": [],
   "source": []
  }
 ],
 "metadata": {
  "kernelspec": {
   "display_name": "Python 3 (ipykernel)",
   "language": "python",
   "name": "python3"
  },
  "language_info": {
   "codemirror_mode": {
    "name": "ipython",
    "version": 3
   },
   "file_extension": ".py",
   "mimetype": "text/x-python",
   "name": "python",
   "nbconvert_exporter": "python",
   "pygments_lexer": "ipython3",
   "version": "3.9.7"
  }
 },
 "nbformat": 4,
 "nbformat_minor": 5
}
