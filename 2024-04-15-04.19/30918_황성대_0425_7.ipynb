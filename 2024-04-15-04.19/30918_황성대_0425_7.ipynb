{
 "cells": [
  {
   "cell_type": "markdown",
   "id": "73cb7595",
   "metadata": {},
   "source": [
    "## 30918_황성대_0425_7"
   ]
  },
  {
   "cell_type": "markdown",
   "id": "ae733d80",
   "metadata": {},
   "source": [
    "# 1731 : 특수 서식 문자 출력하기\n",
    "다음 문장을 출력하시오.\n",
    "\n",
    "special characters\n",
    "[\\n,\\\",\\\\] is very important."
   ]
  },
  {
   "cell_type": "code",
   "execution_count": 1,
   "id": "8568c7f6",
   "metadata": {
    "scrolled": true
   },
   "outputs": [
    {
     "name": "stdout",
     "output_type": "stream",
     "text": [
      "special characters\n",
      "[\\n,\\\",\\\\] is very important.\n"
     ]
    }
   ],
   "source": [
    "print('special characters\\n[\\\\n,\\\\\",\\\\\\] is very important.')"
   ]
  },
  {
   "cell_type": "markdown",
   "id": "9bea84e4",
   "metadata": {},
   "source": [
    "# 1110 : 정수 그대로 출력하기\n",
    "\n",
    "입력받은 정수를 그대로 출력한다.\n",
    "\n",
    "(scanf앞에 불필요한 안내 문구를 출력하지 않도록 합니다.)"
   ]
  },
  {
   "cell_type": "code",
   "execution_count": 2,
   "id": "c04d4f7f",
   "metadata": {},
   "outputs": [
    {
     "name": "stdout",
     "output_type": "stream",
     "text": [
      "5\n",
      "5\n"
     ]
    }
   ],
   "source": [
    "a = int(input())\n",
    "print(a)"
   ]
  },
  {
   "cell_type": "markdown",
   "id": "892c9db8",
   "metadata": {},
   "source": [
    "# 1111 : %출력\n",
    "어떤 정수가 입력되면 %를 붙여 출력하시오."
   ]
  },
  {
   "cell_type": "code",
   "execution_count": 3,
   "id": "b0fb9854",
   "metadata": {},
   "outputs": [
    {
     "name": "stdout",
     "output_type": "stream",
     "text": [
      "5\n",
      "5%\n"
     ]
    }
   ],
   "source": [
    "a = int(input())\n",
    "print(f'{a}%')"
   ]
  },
  {
   "cell_type": "markdown",
   "id": "69dce483",
   "metadata": {},
   "source": [
    "# 1112 : 두 정수 출력\n",
    "입력 받은 두 정수를 출력한다."
   ]
  },
  {
   "cell_type": "code",
   "execution_count": 4,
   "id": "60326ca7",
   "metadata": {},
   "outputs": [
    {
     "name": "stdout",
     "output_type": "stream",
     "text": [
      "5 7\n",
      "5 7\n"
     ]
    }
   ],
   "source": [
    "a, b = map(int, input().split())\n",
    "\n",
    "print(a,b)"
   ]
  },
  {
   "cell_type": "markdown",
   "id": "08b9c5f7",
   "metadata": {},
   "source": [
    "# 1113 : 바꿔서 출력하기\n",
    "두 정수를 입력받아 순서를 바꿔서 출력하시오."
   ]
  },
  {
   "cell_type": "code",
   "execution_count": 5,
   "id": "b27f1a65",
   "metadata": {},
   "outputs": [
    {
     "name": "stdout",
     "output_type": "stream",
     "text": [
      "5 7\n",
      "7 5\n"
     ]
    }
   ],
   "source": [
    "a, b = map(int, input().split())\n",
    "\n",
    "print(b, a)"
   ]
  },
  {
   "cell_type": "code",
   "execution_count": null,
   "id": "2da0f93a",
   "metadata": {},
   "outputs": [],
   "source": []
  }
 ],
 "metadata": {
  "kernelspec": {
   "display_name": "Python 3 (ipykernel)",
   "language": "python",
   "name": "python3"
  },
  "language_info": {
   "codemirror_mode": {
    "name": "ipython",
    "version": 3
   },
   "file_extension": ".py",
   "mimetype": "text/x-python",
   "name": "python",
   "nbconvert_exporter": "python",
   "pygments_lexer": "ipython3",
   "version": "3.9.7"
  }
 },
 "nbformat": 4,
 "nbformat_minor": 5
}
